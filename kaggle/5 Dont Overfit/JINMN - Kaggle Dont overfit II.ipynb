{
 "cells": [
  {
   "cell_type": "markdown",
   "metadata": {},
   "source": [
    "from Kaggle:\n",
    "https://www.kaggle.com/c/dont-overfit-ii/overview"
   ]
  },
  {
   "cell_type": "code",
   "execution_count": 1,
   "metadata": {},
   "outputs": [],
   "source": [
    "import matplotlib.pyplot as plt\n",
    "import pandas as pd\n",
    "import numpy as np\n",
    "from sklearn.model_selection import KFold, train_test_split, StratifiedKFold, cross_val_score\n",
    "from sklearn.preprocessing import StandardScaler, QuantileTransformer\n",
    "from sklearn.feature_selection import VarianceThreshold\n",
    "from sklearn.compose import ColumnTransformer\n",
    "from sklearn.pipeline import Pipeline\n",
    "from sklearn.dummy import DummyClassifier\n",
    "from sklearn.model_selection import StratifiedKFold, cross_val_score\n",
    "from sklearn.svm import SVC\n",
    "from sklearn.ensemble import RandomForestClassifier, GradientBoostingClassifier\n",
    "from sklearn.naive_bayes import MultinomialNB, GaussianNB\n",
    "from sklearn.linear_model import LogisticRegression\n",
    "from sklearn.metrics import accuracy_score\n",
    "from sklearn.metrics import classification_report, plot_confusion_matrix\n",
    "from sklearn.neural_network import MLPClassifier\n",
    "from sklearn.linear_model import LogisticRegressionCV\n",
    "\n",
    "np.random.seed(42)"
   ]
  },
  {
   "cell_type": "markdown",
   "metadata": {},
   "source": [
    "## O que sabemos sobre o dataset?"
   ]
  },
  {
   "cell_type": "code",
   "execution_count": 2,
   "metadata": {},
   "outputs": [
    {
     "name": "stdout",
     "output_type": "stream",
     "text": [
      "Temos um dataset com 300 features\n"
     ]
    }
   ],
   "source": [
    "overfit_train_data = pd.read_csv('./data/train.csv',index_col='id')\n",
    "overfit_test_data  = pd.read_csv(\"./data/test.csv\",index_col='id')\n",
    "\n",
    "print(f\"Temos um dataset com {overfit_train_data.shape[1]-1} features\")"
   ]
  },
  {
   "cell_type": "code",
   "execution_count": null,
   "metadata": {},
   "outputs": [],
   "source": []
  },
  {
   "cell_type": "code",
   "execution_count": null,
   "metadata": {},
   "outputs": [],
   "source": [
    "dic = {}\n",
    "for col in overfit_train_data:\n",
    "    dic[col] = []\n",
    "    dic[col].append(len(overfit_train_data[col].unique()))\n",
    "    dic[col].append(overfit_train_data[col].isnull().sum())\n",
    "pd.DataFrame.from_dict(data=dic,orient='index',columns=['number','missing values'])"
   ]
  },
  {
   "cell_type": "markdown",
   "metadata": {},
   "source": [
    "# Resolução com Todas as Features"
   ]
  },
  {
   "cell_type": "code",
   "execution_count": 14,
   "metadata": {},
   "outputs": [
    {
     "name": "stdout",
     "output_type": "stream",
     "text": [
      "         Mean        Std   Acc\n",
      "Log_Reg  69.5  10.111874  82.0\n"
     ]
    },
    {
     "data": {
      "image/png": "[encoded data removed]",
      "text/plain": [
       "<Figure size 720x720 with 1 Axes>"
      ]
     },
     "metadata": {
      "needs_background": "light"
     },
     "output_type": "display_data"
    }
   ],
   "source": [
    "TEST_SIZE = 0.2\n",
    "STRATEGY_NUM = 'mean'\n",
    "SCORING = 'accuracy' #'roc_auc' #\n",
    "N_SPLITS = 10\n",
    "\n",
    "\n",
    "X = overfit_train_data.drop(columns='target')\n",
    "y = overfit_train_data.loc[:,'target']\n",
    "\n",
    "# Antes de mais nada\n",
    "X_train, X_test, y_train, y_test = train_test_split(X, y, test_size=TEST_SIZE)\n",
    "\n",
    "# Applying Standard Scaler\n",
    "NUM_FEAT = X.columns.values\n",
    "scaler = StandardScaler()\n",
    "num_transf = Pipeline([('Scaler',scaler)])\n",
    "\n",
    "preprocessor = ColumnTransformer(transformers=[\n",
    "    ('Numeric',num_transf,NUM_FEAT)\n",
    "])\n",
    "\n",
    "svc = SVC()\n",
    "log_reg = LogisticRegression(C = 0.1, penalty= 'l1',solver='liblinear') #C=6, #penalty='l2'\n",
    "                             #class_weight='balanced', #0.1\n",
    "                             #max_iter=10000,\n",
    "                             #solver='lbfgs',\n",
    "                             #n_jobs=-1,\n",
    "grad_boost = GradientBoostingClassifier()\n",
    "kfold = KFold(n_splits=N_SPLITS, shuffle=True)\n",
    "\n",
    "# list models\n",
    "list_models = [('Log_Reg', log_reg)] #('SVC', svc), , ('Grad_Boost', grad_boost)\n",
    "\n",
    "df_summary = pd.DataFrame(columns=['Mean','Std','Acc'])\n",
    "df_scores = pd.DataFrame()\n",
    "\n",
    "X_final = overfit_test_data\n",
    "\n",
    "# cross-val, treino e avalicao tudo num for\n",
    "for name, model in list_models:\n",
    "    pipe = Pipeline([('Preprocessor', preprocessor), (name, model)])\n",
    "    scores = cross_val_score(pipe, X_train, y_train, scoring=SCORING, cv=kfold)\n",
    "    df_scores.loc[:, name] = scores\n",
    "    pipe.fit(X_train, y_train)\n",
    "    y_pred = pipe.predict(X_test)\n",
    "    df_summary.loc[name] = [scores.mean()*100, \n",
    "                            scores.std()*100,\n",
    "                           accuracy_score(y_test, y_pred)*100]\n",
    "    \n",
    "    # Wrinting the output for Kaggle\n",
    "    #y_pred_final = pipe.predict(X_final)\n",
    "    y_pred_final  = pipe.predict_proba(X_final)[:,1]\n",
    "    output = pd.DataFrame({'id': X_final.index, 'target': y_pred_final})\n",
    "    output.to_csv(f'./outputs/{name} DontOverfit 2020-11-22.csv',index=False)\n",
    "\n",
    "print(df_summary)\n",
    "df_scores.boxplot(figsize=(10, 10))\n",
    "plt.show()"
   ]
  },
  {
   "cell_type": "code",
   "execution_count": 11,
   "metadata": {},
   "outputs": [
    {
     "data": {
      "text/plain": [
       "array([0.58433363, 0.06311444, 0.34065459, ..., 0.23079328, 0.03869532,\n",
       "       0.01015035])"
      ]
     },
     "execution_count": 11,
     "metadata": {},
     "output_type": "execute_result"
    }
   ],
   "source": [
    "pipe.predict_proba(X_final)[:,1]"
   ]
  },
  {
   "cell_type": "markdown",
   "metadata": {},
   "source": [
    "# Com apenas as features selecionadas"
   ]
  },
  {
   "cell_type": "code",
   "execution_count": null,
   "metadata": {},
   "outputs": [],
   "source": [
    "s = overfit_train_data.corr()['target'].sort_values(ascending=False)\n",
    "selected_columns = s.loc[s>0.1].index.values[1:]"
   ]
  },
  {
   "cell_type": "code",
   "execution_count": null,
   "metadata": {},
   "outputs": [],
   "source": [
    "TEST_SIZE = 0.2\n",
    "STRATEGY_NUM = 'mean'\n",
    "SCORING = 'accuracy' #'roc_auc' #\n",
    "N_SPLITS = 10\n",
    "\n",
    "\n",
    "X = overfit_train_data[selected_columns]\n",
    "y = overfit_train_data.loc[:,'target']\n",
    "\n",
    "# Antes de mais nada\n",
    "X_train, X_test, y_train, y_test = train_test_split(X, y, test_size=TEST_SIZE)\n",
    "\n",
    "# Applying Standard Scaler\n",
    "NUM_FEAT = selected_columns\n",
    "scaler = StandardScaler()\n",
    "num_transf = Pipeline([('Scaler',scaler)])\n",
    "\n",
    "preprocessor = ColumnTransformer(transformers=[\n",
    "    ('Numeric',num_transf,NUM_FEAT)\n",
    "])\n",
    "\n",
    "svc = SVC()\n",
    "log_reg = LogisticRegression() #C=6, #penalty='l2'\n",
    "                             #class_weight='balanced', #0.1\n",
    "                             #max_iter=10000,\n",
    "                             #solver='lbfgs',\n",
    "                             #n_jobs=-1,\n",
    "grad_boost = GradientBoostingClassifier()\n",
    "kfold = KFold(n_splits=N_SPLITS, shuffle=True)\n",
    "\n",
    "# list models\n",
    "list_models = [('SVC', svc), ('Log_Reg', log_reg), ('Grad_Boost', grad_boost)]\n",
    "\n",
    "df_summary = pd.DataFrame(columns=['Mean','Std','Acc'])\n",
    "df_scores = pd.DataFrame()\n",
    "\n",
    "X_final = overfit_test_data[selected_columns]\n",
    "\n",
    "# cross-val, treino e avalicao tudo num for\n",
    "for name, model in list_models:\n",
    "    pipe = Pipeline([('Preprocessor', preprocessor), (name, model)])\n",
    "    scores = cross_val_score(pipe, X_train, y_train, scoring=SCORING, cv=kfold)\n",
    "    df_scores.loc[:, name] = scores\n",
    "    pipe.fit(X_train, y_train)\n",
    "    y_pred = pipe.predict(X_test)\n",
    "    df_summary.loc[name] = [scores.mean()*100, \n",
    "                            scores.std()*100,\n",
    "                           accuracy_score(y_test, y_pred)*100]\n",
    "    \n",
    "    # Wrinting the output for Kaggle\n",
    "    y_pred_final = pipe.predict(X_final)\n",
    "    output = pd.DataFrame({'id': X_final.index, 'target': y_pred_final})\n",
    "    output.to_csv(f'./outputs/{name} DontOverfit Few Columns 2020-11-22.csv',index=False)\n",
    "\n",
    "print(df_summary)\n",
    "df_scores.boxplot(figsize=(10, 10))\n",
    "plt.show()"
   ]
  },
  {
   "cell_type": "markdown",
   "metadata": {},
   "source": [
    "# Excluindo e Normalizando"
   ]
  },
  {
   "cell_type": "code",
   "execution_count": null,
   "metadata": {},
   "outputs": [],
   "source": [
    "TEST_SIZE = 0.2\n",
    "STRATEGY_NUM = 'mean'\n",
    "SCORING = 'accuracy' #'roc_auc' #\n",
    "N_SPLITS = 10\n",
    "\n",
    "\n",
    "X = overfit_train_data.drop(columns='target')\n",
    "y = overfit_train_data.loc[:,'target']\n",
    "\n",
    "# Antes de mais nada\n",
    "X_train, X_test, y_train, y_test = train_test_split(X, y, test_size=TEST_SIZE)\n",
    "\n",
    "# Applying Standard Scaler\n",
    "NUM_FEAT = X.columns.values\n",
    "selector = VarianceThreshold(threshold=0.0)\n",
    "scaler = StandardScaler()\n",
    "num_transf = Pipeline([('Select',selector),('Scaler',scaler)])\n",
    "\n",
    "preprocessor = ColumnTransformer(transformers=[\n",
    "    ('Numeric',num_transf,NUM_FEAT)\n",
    "])\n",
    "\n",
    "svc = SVC()\n",
    "log_reg = LogisticRegression() #C=6, #penalty='l2'\n",
    "                             #class_weight='balanced', #0.1\n",
    "                             #max_iter=10000,\n",
    "                             #solver='lbfgs',\n",
    "                             #n_jobs=-1,\n",
    "grad_boost = GradientBoostingClassifier()\n",
    "kfold = KFold(n_splits=N_SPLITS, shuffle=True)\n",
    "\n",
    "# list models\n",
    "list_models = [('SVC', svc), ('Log_Reg', log_reg), ('Grad_Boost', grad_boost)]\n",
    "\n",
    "df_summary = pd.DataFrame(columns=['Mean','Std','Acc'])\n",
    "df_scores = pd.DataFrame()\n",
    "\n",
    "X_final = overfit_test_data\n",
    "\n",
    "# cross-val, treino e avalicao tudo num for\n",
    "for name, model in list_models:\n",
    "    pipe = Pipeline([('Preprocessor', preprocessor), (name, model)])\n",
    "    scores = cross_val_score(pipe, X_train, y_train, scoring=SCORING, cv=kfold)\n",
    "    df_scores.loc[:, name] = scores\n",
    "    pipe.fit(X_train, y_train)\n",
    "    y_pred = pipe.predict(X_test)\n",
    "    df_summary.loc[name] = [scores.mean()*100, \n",
    "                            scores.std()*100,\n",
    "                           accuracy_score(y_test, y_pred)*100]\n",
    "    \n",
    "    # Wrinting the output for Kaggle\n",
    "    y_pred_final = pipe.predict(X_final)\n",
    "    output = pd.DataFrame({'id': X_final.index, 'target': y_pred_final})\n",
    "    output.to_csv(f'./outputs/{name} Selector DontOverfit 2020-11-22.csv',index=False)\n",
    "\n",
    "print(df_summary)\n",
    "df_scores.boxplot(figsize=(10, 10))\n",
    "plt.show()"
   ]
  }
 ],
 "metadata": {
  "kernelspec": {
   "display_name": "Python 3",
   "language": "python",
   "name": "python3"
  },
  "language_info": {
   "codemirror_mode": {
    "name": "ipython",
    "version": 3
   },
   "file_extension": ".py",
   "mimetype": "text/x-python",
   "name": "python",
   "nbconvert_exporter": "python",
   "pygments_lexer": "ipython3",
   "version": "3.8.5"
  }
 },
 "nbformat": 4,
 "nbformat_minor": 4
}
