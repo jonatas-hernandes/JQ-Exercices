{
 "cells": [
  {
   "cell_type": "markdown",
   "metadata": {
    "toc": true
   },
   "source": [
    "<h1>Table of Contents<span class=\"tocSkip\"></span></h1>\n",
    "<div class=\"toc\"><ul class=\"toc-item\"><li><span><a href=\"#Olhando-para-o-dataset-Portland\" data-toc-modified-id=\"Olhando-para-o-dataset-Portland-1\"><span class=\"toc-item-num\">1&nbsp;&nbsp;</span>Olhando para o dataset Portland</a></span></li><li><span><a href=\"#Exemplo-Sintético\" data-toc-modified-id=\"Exemplo-Sintético-2\"><span class=\"toc-item-num\">2&nbsp;&nbsp;</span>Exemplo Sintético</a></span></li><li><span><a href=\"#Para-pensar\" data-toc-modified-id=\"Para-pensar-3\"><span class=\"toc-item-num\">3&nbsp;&nbsp;</span>Para pensar</a></span></li><li><span><a href=\"#Referências\" data-toc-modified-id=\"Referências-4\"><span class=\"toc-item-num\">4&nbsp;&nbsp;</span>Referências</a></span></li></ul></div>"
   ]
  },
  {
   "cell_type": "markdown",
   "metadata": {},
   "source": [
    "# Olhando para o dataset Portland"
   ]
  },
  {
   "cell_type": "markdown",
   "metadata": {},
   "source": [
    "Vamos dar uma olhada no dataset que enviamos para vocês. Primeiro, olharemos a coluna **Month** para ver se há valores repetidos, o que poderia ser um problema, já que iremos usá-la como index."
   ]
  },
  {
   "cell_type": "code",
   "execution_count": 1,
   "metadata": {},
   "outputs": [
    {
     "name": "stdout",
     "output_type": "stream",
     "text": [
      "Infos do dataset\n",
      "<class 'pandas.core.frame.DataFrame'>\n",
      "RangeIndex: 114 entries, 0 to 113\n",
      "Data columns (total 2 columns):\n",
      " #   Column  Non-Null Count  Dtype \n",
      "---  ------  --------------  ----- \n",
      " 0   Month   114 non-null    object\n",
      " 1   Count   114 non-null    int64 \n",
      "dtypes: int64(1), object(1)\n",
      "memory usage: 1.9+ KB\n",
      "None\n",
      "\n",
      "Quant de duplicados em Month: 0\n"
     ]
    }
   ],
   "source": [
    "import pandas as pd\n",
    "\n",
    "PATH_PORT = 'portland-oregon.csv'\n",
    "\n",
    "df_portland = pd.read_csv(PATH_PORT)\n",
    "\n",
    "print('Infos do dataset')\n",
    "print(df_portland.info())\n",
    "\n",
    "quant_dup = df_portland.loc[:, 'Month'].duplicated().sum()\n",
    "print(f'\\nQuant de duplicados em Month: {quant_dup}')"
   ]
  },
  {
   "cell_type": "markdown",
   "metadata": {},
   "source": [
    "Vamos criar uma outra célula, com o código completo, escolhendo a coluna **Month** como index já em tempo de leitura. Lembre-se, estamos usando o Jupyter-Notebook, apesar de ele ser otimo para explorações rápidas, não é a melhor ferramenta para desenvolvermos uma aplicação completa para Data Science, maaaaas continuemos."
   ]
  },
  {
   "cell_type": "code",
   "execution_count": 2,
   "metadata": {},
   "outputs": [
    {
     "name": "stdout",
     "output_type": "stream",
     "text": [
      "            Count\n",
      "Month            \n",
      "1960-01-01    648\n",
      "1960-02-01    646\n",
      "1960-03-01    639\n",
      "1960-04-01    654\n",
      "1960-05-01    630\n",
      "...           ...\n",
      "1969-02-01   1425\n",
      "1969-03-01   1419\n",
      "1969-04-01   1432\n",
      "1969-05-01   1394\n",
      "1969-06-01   1327\n",
      "\n",
      "[114 rows x 1 columns]\n"
     ]
    }
   ],
   "source": [
    "import pandas as pd\n",
    "\n",
    "PATH_PORT = 'portland-oregon.csv'\n",
    "\n",
    "df_portland = pd.read_csv(PATH_PORT, index_col='Month', parse_dates=['Month'])\n",
    "print(df_portland)"
   ]
  },
  {
   "cell_type": "markdown",
   "metadata": {},
   "source": [
    "Vamos pensar, os valores que estão na coluna **Count** são contínuos, mais ainda, ela é a única coluna que temos, ou seja, não temos uma coluna de **features** - que são as variáveis - e uma coluna de **Target** - aquilo que queremos prever.<br>\n",
    "\n",
    "Na verdade, olhando mais de perto, vemos que a coluna **Count** é a coluna de **Target**, já que ela contêm os valores que queremos prever, a quantidade de pessoas que usaram o transporte público no mês seguinte. Como ela tem valores continuos, temos um problema de **REGRESSÃO**.<br>\n",
    "\n",
    "O que temos até agora? \n",
    "- A coluna de **Targets**\n",
    "- Um problema de Machine Learning Supervisionado e de **REGRESSÃO**\n",
    "\n",
    "Então, onde estão as **features**?<br>\n",
    "\n",
    "Antes, vamos citar aqui uma parte do artigo [What is Time Series Forecasting?](https://machinelearningmastery.com/time-series-forecasting/)\n",
    "\n",
    "> Time series adds an explicit order dependence between observations: a time dimension. This additional dimension is both a constraint and a structure that provides a source of additional information.<br>\n",
    "\"A time series is a sequence of observations taken sequentially in time.\"<br>\n",
    "— Page 1, [Time Series Analysis: Forecasting and Control.](https://www.amazon.com/Time-Analysis-Forecasting-Probability-Statistics/dp/1118675029/ref=as_li_ss_tl?dchild=1&keywords=Time+Series+Analysis:+Forecasting+and+Control&qid=1597365982&sr=8-1&linkCode=sl1&tag=inspiredalgor-20&linkId=8aacd7138dd0383953e41674e84246f4&language=en_US)"
   ]
  },
  {
   "cell_type": "markdown",
   "metadata": {},
   "source": [
    "# Exemplo Sintético"
   ]
  },
  {
   "cell_type": "markdown",
   "metadata": {},
   "source": [
    "Vou criar um exemplo sintético e vocês aplicam as ideias no dataset real. Suponha que queremos treinar um ESTIMATOR do Scikit-Learn para ele aprendar a contar de 1 em 1. Temos um dataset que vai de 1 até 10. Veja abaixo"
   ]
  },
  {
   "cell_type": "code",
   "execution_count": 3,
   "metadata": {},
   "outputs": [
    {
     "name": "stdout",
     "output_type": "stream",
     "text": [
      "   Count\n",
      "0      1\n",
      "1      2\n",
      "2      3\n",
      "3      4\n",
      "4      5\n",
      "5      6\n",
      "6      7\n",
      "7      8\n",
      "8      9\n",
      "9     10\n"
     ]
    }
   ],
   "source": [
    "import pandas as pd\n",
    "import numpy as np\n",
    "\n",
    "df_sum = pd.DataFrame(np.arange(1, 11), columns=['Count'])\n",
    "print(df_sum)"
   ]
  },
  {
   "cell_type": "markdown",
   "metadata": {},
   "source": [
    "Esse nosso problema é basicamente um problema de Time Series já que as observações têm uma \"sequência\" no tempo. Eu sei, tem coisas mais profundas, mas no final das contas - para efeitos práticos - podemos entender assim. Sabemos também que podemos abordá-lo como um problema de Machine Learning Supervisionado e de Regressão, mas que precisamos \"cutucar\" para que ele fique de uma maneira consumível para um ESTIMATOR, a saber:\n",
    "- Design Matrix X 2D(n_samples, n_features)\n",
    "- Target Values y 1D(n_samples, )\n",
    "\n",
    "Citando o artigo [Time Series Forecasting as Supervised Learning](https://machinelearningmastery.com/time-series-forecasting-supervised-learning/)\n",
    "> Given a sequence of numbers for a time series dataset, we can restructure the data to look like a supervised learning problem. We can do this by using previous time steps as input variables and use the next time step as the output variable.\n",
    "\n",
    "Ou seja, a coluna **Count** é tanto o **Target Values y** quanto a **Design Matrix X**, que terá quantas features quisermos. Usando apenas uma feature: \n",
    "- temos um target value 2, cuja feature é 1\n",
    "- temos um target value 3, cuja feature é 2\n",
    "- temos um tatget value 4, cuja feature é 3\n",
    "- etc etc etc\n",
    "\n",
    "Caso quiséssemos duas features:\n",
    "- temos um target value 3, cujas feature são 1 e 2\n",
    "- temos um target value 4, cujas feature são 2 e 3\n",
    "- temos um target value 5, cujas feature são 3 e 4\n",
    "- etc etc etc\n",
    "\n",
    "O nome dessa técnica é **Sliding Window**\n",
    "\n",
    "Vamos colocar na prática no nosso dataset sintético. Vamos usar apenas uma feature e inserir uma coluna de Target y, onde o valor de y é o valor seguinte da coluna Count, esta - por sua vez - fica sendo a única feature."
   ]
  },
  {
   "cell_type": "code",
   "execution_count": 6,
   "metadata": {},
   "outputs": [
    {
     "name": "stdout",
     "output_type": "stream",
     "text": [
      "Dataset refeito com a Design Matrix X e Target Values y\n",
      "   Count  Target\n",
      "0      1     2.0\n",
      "1      2     3.0\n",
      "2      3     4.0\n",
      "3      4     5.0\n",
      "4      5     6.0\n",
      "5      6     7.0\n",
      "6      7     8.0\n",
      "7      8     9.0\n",
      "8      9    10.0\n",
      "9     10     NaN\n"
     ]
    }
   ],
   "source": [
    "import pandas as pd\n",
    "import numpy as np\n",
    "\n",
    "# cria dataset sintetico\n",
    "df_sum = pd.DataFrame(np.arange(1, 11), columns=['Count'])\n",
    "\n",
    "# inserimos uma coluna Target que eh o valor seguinte\n",
    "# na sequencia\n",
    "df_sum.insert(loc=1, column='Target', value=df_sum.Count.shift(-1))\n",
    "\n",
    "print('Dataset refeito com a Design Matrix X e Target Values y')\n",
    "print(df_sum)"
   ]
  },
  {
   "cell_type": "markdown",
   "metadata": {},
   "source": [
    "Caso usássemos duas features, ficaria assim. Count é a primeira feature e Feature_2 a segunda, obviamente. Perceba que a ordem no tempo das observações foi preservada."
   ]
  },
  {
   "cell_type": "code",
   "execution_count": 7,
   "metadata": {},
   "outputs": [
    {
     "name": "stdout",
     "output_type": "stream",
     "text": [
      "Dataset refeito com a Design Matrix X e Target Values y\n",
      "   Count  Feature_2  Target\n",
      "0      1        2.0     3.0\n",
      "1      2        3.0     4.0\n",
      "2      3        4.0     5.0\n",
      "3      4        5.0     6.0\n",
      "4      5        6.0     7.0\n",
      "5      6        7.0     8.0\n",
      "6      7        8.0     9.0\n",
      "7      8        9.0    10.0\n",
      "8      9       10.0     NaN\n",
      "9     10        NaN     NaN\n"
     ]
    }
   ],
   "source": [
    "import pandas as pd\n",
    "import numpy as np\n",
    "\n",
    "# cria dataset sintetico\n",
    "df_sum = pd.DataFrame(np.arange(1, 11), columns=['Count'])\n",
    "\n",
    "df_sum.insert(loc=1, column='Feature_2', value=df_sum.Count.shift(-1))\n",
    "df_sum.insert(loc=2, column='Target', value=df_sum.Count.shift(-2))\n",
    "\n",
    "print('Dataset refeito com a Design Matrix X e Target Values y')\n",
    "print(df_sum)"
   ]
  },
  {
   "cell_type": "markdown",
   "metadata": {},
   "source": [
    "Veja que sempre uma observação anterior, ou um conjunto delas, é a Design Matrix X e a observação seguinte é o Target Values y"
   ]
  },
  {
   "cell_type": "markdown",
   "metadata": {},
   "source": [
    "# Para pensar\n",
    "- como faríamos o train_test_split nesse caso?  lembre-se que a ordem no tempo das observações deve ser preservada\n",
    "- o que faremos com os valores NaN que surgiram no dataset?"
   ]
  },
  {
   "cell_type": "markdown",
   "metadata": {},
   "source": [
    "# Referências\n",
    "- [What Is a Time Series Forecasting?](https://machinelearningmastery.com/time-series-forecasting/)\n",
    "- [Time Series Forecasting as Supervised Learning](https://machinelearningmastery.com/time-series-forecasting-supervised-learning/)\n",
    "- [Forecasting: Principles and Practice](https://otexts.com/fpp2/)"
   ]
  }
 ],
 "metadata": {
  "kernelspec": {
   "display_name": "Python 3",
   "language": "python",
   "name": "python3"
  },
  "language_info": {
   "codemirror_mode": {
    "name": "ipython",
    "version": 3
   },
   "file_extension": ".py",
   "mimetype": "text/x-python",
   "name": "python",
   "nbconvert_exporter": "python",
   "pygments_lexer": "ipython3",
   "version": "3.8.5"
  },
  "toc": {
   "base_numbering": 1,
   "nav_menu": {},
   "number_sections": true,
   "sideBar": true,
   "skip_h1_title": false,
   "title_cell": "Table of Contents",
   "title_sidebar": "Contents",
   "toc_cell": true,
   "toc_position": {},
   "toc_section_display": true,
   "toc_window_display": false
  },
  "varInspector": {
   "cols": {
    "lenName": 16,
    "lenType": 16,
    "lenVar": 40
   },
   "kernels_config": {
    "python": {
     "delete_cmd_postfix": "",
     "delete_cmd_prefix": "del ",
     "library": "var_list.py",
     "varRefreshCmd": "print(var_dic_list())"
    },
    "r": {
     "delete_cmd_postfix": ") ",
     "delete_cmd_prefix": "rm(",
     "library": "var_list.r",
     "varRefreshCmd": "cat(var_dic_list()) "
    }
   },
   "types_to_exclude": [
    "module",
    "function",
    "builtin_function_or_method",
    "instance",
    "_Feature"
   ],
   "window_display": false
  }
 },
 "nbformat": 4,
 "nbformat_minor": 4
}
