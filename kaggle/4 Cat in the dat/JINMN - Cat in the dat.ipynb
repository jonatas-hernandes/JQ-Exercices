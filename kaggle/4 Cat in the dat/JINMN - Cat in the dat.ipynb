{
 "cells": [
  {
   "cell_type": "markdown",
   "metadata": {},
   "source": [
    "from Kaggle:\n",
    "https://www.kaggle.com/c/cat-in-the-dat/overview"
   ]
  },
  {
   "cell_type": "code",
   "execution_count": 1,
   "metadata": {},
   "outputs": [],
   "source": [
    "import pandas as pd\n",
    "import numpy as np\n",
    "from sklearn.model_selection import train_test_split, KFold, cross_val_score\n",
    "from sklearn.preprocessing import OneHotEncoder, OrdinalEncoder, LabelEncoder\n",
    "from sklearn.pipeline import Pipeline\n",
    "from sklearn.compose import ColumnTransformer\n",
    "from sklearn.ensemble import GradientBoostingClassifier\n",
    "from sklearn.linear_model import LogisticRegression\n",
    "from sklearn.svm import SVC\n",
    "from sklearn.model_selection import StratifiedKFold, GridSearchCV\n",
    "from sklearn.metrics import accuracy_score\n",
    "import matplotlib.pyplot as plt\n",
    "np.random.seed(42)\n",
    "\n",
    "TEST_SIZE = 0.2\n",
    "N_SPLITS  = 5\n",
    "SCORING = 'accuracy'\n",
    "\n",
    "data_train = pd.read_csv('./data/train.csv',index_col='id')\n",
    "\n",
    "X = data_train.drop(columns='target')\n",
    "y = data_train.loc[:,'target']"
   ]
  },
  {
   "cell_type": "code",
   "execution_count": 2,
   "metadata": {},
   "outputs": [
    {
     "data": {
      "text/plain": [
       "<AxesSubplot:>"
      ]
     },
     "execution_count": 2,
     "metadata": {},
     "output_type": "execute_result"
    },
    {
     "data": {
      "image/png": "[encoded data removed]",
      "text/plain": [
       "<Figure size 432x288 with 1 Axes>"
      ]
     },
     "metadata": {
      "needs_background": "light"
     },
     "output_type": "display_data"
    }
   ],
   "source": [
    "# A cara da saída\n",
    "y.hist()"
   ]
  },
  {
   "cell_type": "code",
   "execution_count": 6,
   "metadata": {},
   "outputs": [
    {
     "name": "stdout",
     "output_type": "stream",
     "text": [
      "       Number of Cats                                               Cats  \\\n",
      "bin_0               2                                             [0, 1]   \n",
      "bin_1               2                                             [0, 1]   \n",
      "bin_2               2                                             [0, 1]   \n",
      "bin_3               2                                             [F, T]   \n",
      "bin_4               2                                             [N, Y]   \n",
      "nom_0               3                                 [Blue, Green, Red]   \n",
      "nom_1               6  [Circle, Polygon, Square, Star, Trapezoid, Tri...   \n",
      "nom_2               6          [Axolotl, Cat, Dog, Hamster, Lion, Snake]   \n",
      "nom_3               6  [Canada, China, Costa Rica, Finland, India, Ru...   \n",
      "nom_4               4                   [Bassoon, Oboe, Piano, Theremin]   \n",
      "nom_5             222  [005dd4ce3, 037bd73d8, 05950689f, 05d5943a3, 0...   \n",
      "nom_6             522  [0000ee65f, 00e9c15b8, 01455237a, 017eb57f0, 0...   \n",
      "nom_7            1220  [0074c698f, 008f05158, 00994f749, 009a419af, 0...   \n",
      "nom_8            2215  [000ae3bea, 0012ac11d, 002ae26fa, 00405ddc2, 0...   \n",
      "nom_9           11981  [00052050d, 0008e7054, 000bd3e3d, 000c15b20, 0...   \n",
      "ord_0               3                                          [1, 2, 3]   \n",
      "ord_1               5  [Contributor, Expert, Grandmaster, Master, Nov...   \n",
      "ord_2               6  [Boiling Hot, Cold, Freezing, Hot, Lava Hot, W...   \n",
      "ord_3              15      [a, b, c, d, e, f, g, h, i, j, k, l, m, n, o]   \n",
      "ord_4              26  [A, B, C, D, E, F, G, H, I, J, K, L, M, N, O, ...   \n",
      "ord_5             192  [AP, Ai, Aj, BA, BE, Bb, Bd, Bn, CL, CM, CU, C...   \n",
      "day                 7                              [1, 2, 3, 4, 5, 6, 7]   \n",
      "month              12            [1, 2, 3, 4, 5, 6, 7, 8, 9, 10, 11, 12]   \n",
      "\n",
      "       High Cardinality  \n",
      "bin_0                 0  \n",
      "bin_1                 0  \n",
      "bin_2                 0  \n",
      "bin_3                 0  \n",
      "bin_4                 0  \n",
      "nom_0                 0  \n",
      "nom_1                 0  \n",
      "nom_2                 0  \n",
      "nom_3                 0  \n",
      "nom_4                 0  \n",
      "nom_5                 1  \n",
      "nom_6                 1  \n",
      "nom_7                 1  \n",
      "nom_8                 1  \n",
      "nom_9                 1  \n",
      "ord_0                 0  \n",
      "ord_1                 0  \n",
      "ord_2                 0  \n",
      "ord_3                 0  \n",
      "ord_4                 0  \n",
      "ord_5                 1  \n",
      "day                   0  \n",
      "month                 0  \n"
     ]
    }
   ],
   "source": [
    "# não há dados faltantes, não há necessidade de imputar\n",
    "dic = {}\n",
    "for col in X:\n",
    "    dic[col] = []\n",
    "    dic[col].append(len(X[col].unique()))\n",
    "    if len(X[col].unique()) < 100:\n",
    "        dic[col].append(np.sort(X[col].unique()))\n",
    "        dic[col].append(0)\n",
    "    else:\n",
    "        dic[col].append(np.sort(X[col].unique()))\n",
    "        dic[col].append(1)\n",
    "summary = pd.DataFrame.from_dict(data=dic, orient='index', columns=['Number of Cats','Cats', 'High Cardinality'])\n",
    "print(summary)"
   ]
  },
  {
   "cell_type": "code",
   "execution_count": 11,
   "metadata": {},
   "outputs": [
    {
     "name": "stdout",
     "output_type": "stream",
     "text": [
      "------------------------------------------------------------------\n",
      "Cross-val Log_Reg com 5 folds\n",
      "Mean: 67.52%\n",
      "Std : 0.23%\n",
      "Acc teste: 67.67%\n",
      "------------------------------------------------------------------\n"
     ]
    },
    {
     "data": {
      "image/png": "[encoded data removed]",
      "text/plain": [
       "<Figure size 720x720 with 1 Axes>"
      ]
     },
     "metadata": {
      "needs_background": "light"
     },
     "output_type": "display_data"
    }
   ],
   "source": [
    "# Let's just ignore the high cardinality features\n",
    "USE_COLS = summary[summary['High Cardinality']==0].index\n",
    "\n",
    "X = X[USE_COLS]\n",
    "\n",
    "X_train, X_test, y_train, y_test = train_test_split(X, y, test_size=TEST_SIZE)\n",
    "\n",
    "ohe = OneHotEncoder(categories='auto',sparse=False)\n",
    "\n",
    "log_reg = LogisticRegression(C=0.19318569815283693, class_weight='balanced',max_iter=10000, solver='lbfgs', n_jobs=-1)\n",
    "kfold = KFold(n_splits=N_SPLITS, shuffle=True)\n",
    "\n",
    "# Ohe every column\n",
    "cat_feat = USE_COLS\n",
    "cat_transf = Pipeline([('Categorical',ohe)])\n",
    "\n",
    "# preprocessador\n",
    "preprocessor = ColumnTransformer(transformers=[\n",
    "    ('Categorical', cat_transf, cat_feat)\n",
    "])\n",
    "\n",
    "# list models\n",
    "list_models = [('Log_Reg', log_reg)] #('SVC', svc), , ('Grad_Boost', grad_boost)\n",
    "\n",
    "df_scores = pd.DataFrame()\n",
    "\n",
    "# cross-val, treino e avalicao tudo num for\n",
    "for name, model in list_models:\n",
    "    start_time = time.time()\n",
    "    pipe = Pipeline([('Preprocessor', preprocessor), (name, model)])\n",
    "    scores = cross_val_score(pipe, X_train, y_train, scoring=SCORING, cv=kfold)\n",
    "    df_scores.loc[:, name] = scores\n",
    "    print('------------------------------------------------------------------')\n",
    "    print(f'Cross-val {name} com {N_SPLITS} folds')\n",
    "    print(f'Mean: {scores.mean()*100:.2f}%')\n",
    "    print(f'Std : {scores.std()*100:.2f}%')  \n",
    "    pipe.fit(X_train, y_train)\n",
    "    y_pred = pipe.predict(X_test)\n",
    "    print(f'Acc teste: {accuracy_score(y_test, y_pred)*100:.2f}%')\n",
    "    print('------------------------------------------------------------------')\n",
    "    print(\"Run time: %s seconds\" % round((time.time() - start_time),1)) \n",
    "\n",
    "df_scores.boxplot(figsize=(10, 10))\n",
    "plt.show()"
   ]
  },
  {
   "cell_type": "code",
   "execution_count": 12,
   "metadata": {},
   "outputs": [],
   "source": [
    "# Gerando output pro Kaggle\n",
    "\n",
    "test_data = pd.read_csv('./data/test.csv',index_col='id')\n",
    "\n",
    "X_test_final = test_data[USE_COLS]\n",
    "\n",
    "y_result_final = pipe.predict(X_test_final)\n",
    "pd.DataFrame(data=y_result_final,index=X_test_final.index,columns=['target']).to_csv('mysubmission_2.csv')"
   ]
  },
  {
   "cell_type": "code",
   "execution_count": null,
   "metadata": {},
   "outputs": [],
   "source": [
    "X_train, X_test, y_train, y_test = train_test_split(X, y, test_size=TEST_SIZE)\n",
    "\n",
    "# instanciando\n",
    "ohe = OneHotEncoder(categories='auto', sparse=False)\n",
    "le = LabelEncoder()\n",
    "orden = OrdinalEncoder()\n",
    "#num_imputer = SimpleImputer(strategy=NUM_STRATEGY)\n",
    "#cat_imputer = SimpleImputer(strategy=CAT_STRATEGY)\n",
    "#scaler = StandardScaler()\n",
    "\n",
    "svc = SVC()\n",
    "log_reg = LogisticRegression()\n",
    "grad_boost = GradientBoostingClassifier()\n",
    "kfold = KFold(n_splits=N_SPLITS, shuffle=True)\n",
    "\n",
    "# pipe binary\n",
    "bin_feat = ['bin_0','bin_1','bin_2', 'bin_3', 'bin_4','day','month']\n",
    "bin_transf = Pipeline([('Binnary', le)])\n",
    "\n",
    "# pipe categoric low cardinality\n",
    "cat_feat_low_card = ['nom_0', 'nom_1', 'nom_2','nom_3', 'nom_4','ord_0','ord_1','ord_2','ord_3','ord_4']\n",
    "cat_transf_low_card = Pipeline([('OneHot', ohe)]) #\n",
    "\n",
    "# pipe categoric high cardinality\n",
    "cat_feat_high_card = ['nom_0', 'nom_1', 'nom_2','nom_3', 'nom_4','ord_5']\n",
    "cat_transf_high_card = Pipeline([('LabelEncod', le)]) #\n",
    "\n",
    "# preprocessador\n",
    "preprocessor = ColumnTransformer(transformers=[\n",
    "    ('Bin', bin_transf, bin_feat),\n",
    "    ('CatLowCard', cat_transf_low_card, cat_feat_low_card),\n",
    "    ('CatHighCard', cat_transf_high_card, cat_feat_high_card)\n",
    "])\n",
    "# list models\n",
    "list_models = [('Log_Reg', log_reg)] #('SVC', svc), , ('Grad_Boost', grad_boost)\n",
    "\n",
    "df_scores = pd.DataFrame()\n",
    "\n",
    "# cross-val, treino e avalicao tudo num for\n",
    "for name, model in list_models:\n",
    "    pipe = Pipeline([('Preprocessor', preprocessor), (name, model)])\n",
    "    scores = cross_val_score(pipe, X_train, y_train, scoring=SCORING, cv=kfold)\n",
    "    df_scores.loc[:, name] = scores\n",
    "    print('------------------------------------------------------------------')\n",
    "    print(f'Cross-val {name} com {N_SPLITS} folds')\n",
    "    print(f'Mean: {scores.mean()*100:.2f}%')\n",
    "    print(f'Std : {scores.std()*100:.2f}%')  \n",
    "    pipe.fit(X_train, y_train)\n",
    "    y_pred = pipe.predict(X_test)\n",
    "    print(f'Acc teste: {accuracy_score(y_test, y_pred)*100:.2f}%')\n",
    "    print('------------------------------------------------------------------')\n",
    "\n",
    "df_scores.boxplot(figsize=(10, 10))\n",
    "plt.show()"
   ]
  },
  {
   "cell_type": "code",
   "execution_count": null,
   "metadata": {},
   "outputs": [],
   "source": [
    "X_test.shape"
   ]
  },
  {
   "cell_type": "code",
   "execution_count": null,
   "metadata": {},
   "outputs": [],
   "source": [
    "X_train.shape"
   ]
  },
  {
   "cell_type": "code",
   "execution_count": null,
   "metadata": {},
   "outputs": [],
   "source": [
    "bin_cols = ['bin_0','bin_1','bin_2', 'bin_3', 'bin_4']\n",
    "\n",
    "# Para essas colunas é necessário trocar a letra por 1 ou 0\n",
    "# Mas essa transformação tem que entrar no pipeline\n",
    "make_num_bin = ['bin_3','bin_4']\n",
    "bin_replace = {'bin_3':{'T':1,'F':0},'bin_4':{'Y':1,'N':0}}\n",
    "\n",
    "for col in make_num_bin:\n",
    "    data_train[col] = data_train[col].map(bin_replace[col])"
   ]
  },
  {
   "cell_type": "code",
   "execution_count": null,
   "metadata": {},
   "outputs": [],
   "source": [
    "data_train.columns.values[5:-1]"
   ]
  },
  {
   "cell_type": "code",
   "execution_count": null,
   "metadata": {},
   "outputs": [],
   "source": [
    "X = data_train.drop(columns='target')\n",
    "cat_features = data_train.columns.values[5:-1]\n",
    "X[cat_features].head()"
   ]
  },
  {
   "cell_type": "code",
   "execution_count": null,
   "metadata": {},
   "outputs": [],
   "source": [
    "ohe = OneHotEncoder(sparse=False)\n",
    "X_encoded = ohe.fit_transform(X[cat_features])"
   ]
  },
  {
   "cell_type": "code",
   "execution_count": null,
   "metadata": {},
   "outputs": [],
   "source": [
    "X_encoded"
   ]
  },
  {
   "cell_type": "code",
   "execution_count": null,
   "metadata": {},
   "outputs": [],
   "source": []
  },
  {
   "cell_type": "markdown",
   "metadata": {},
   "source": [
    "## Usando o Label Encoder"
   ]
  },
  {
   "cell_type": "code",
   "execution_count": null,
   "metadata": {},
   "outputs": [],
   "source": [
    "label = LabelEncoder()"
   ]
  },
  {
   "cell_type": "code",
   "execution_count": null,
   "metadata": {},
   "outputs": [],
   "source": [
    "for c in  X.columns:\n",
    "    if(X[c].dtype=='object'):\n",
    "        X[c]=label.fit_transform(X[c])\n",
    "    else:\n",
    "        X[c]=X[c]"
   ]
  },
  {
   "cell_type": "code",
   "execution_count": null,
   "metadata": {},
   "outputs": [],
   "source": [
    "label.fit_transform(data_train['nom_5'])"
   ]
  },
  {
   "cell_type": "code",
   "execution_count": null,
   "metadata": {},
   "outputs": [],
   "source": [
    "ohe.fit_transform(data_train[['nom_5']]).shape"
   ]
  },
  {
   "cell_type": "code",
   "execution_count": null,
   "metadata": {},
   "outputs": [],
   "source": [
    "data_train['nom_5'].unique()"
   ]
  },
  {
   "cell_type": "code",
   "execution_count": null,
   "metadata": {},
   "outputs": [],
   "source": [
    "X.columns"
   ]
  },
  {
   "cell_type": "markdown",
   "metadata": {},
   "source": [
    "## Usando onehotencoder\n"
   ]
  },
  {
   "cell_type": "code",
   "execution_count": null,
   "metadata": {},
   "outputs": [],
   "source": [
    "ohe = OneHotEncoder()\n",
    "ohe.fit(X)\n",
    "X_encoded = ohe.transform(X)\n",
    "X_encoded.shape"
   ]
  },
  {
   "cell_type": "markdown",
   "metadata": {},
   "source": [
    "## Regressão Logística"
   ]
  },
  {
   "cell_type": "code",
   "execution_count": null,
   "metadata": {},
   "outputs": [],
   "source": [
    "lr = LogisticRegression()\n",
    "lr.fit(X,y)"
   ]
  },
  {
   "cell_type": "code",
   "execution_count": null,
   "metadata": {},
   "outputs": [],
   "source": [
    "data_test = pd.read_csv('./data/test.csv',index_col='id')\n",
    "\n",
    "X_test = data_test\n",
    "\n",
    "for c in  X_test.columns:\n",
    "    if(X_test[c].dtype=='object'):\n",
    "        X_test[c]=label.fit_transform(X_test[c])\n",
    "    else:\n",
    "        X_test[c]=X_test[c]\n",
    "        "
   ]
  },
  {
   "cell_type": "code",
   "execution_count": null,
   "metadata": {},
   "outputs": [],
   "source": [
    "y_result = lr.predict(X_test)"
   ]
  },
  {
   "cell_type": "code",
   "execution_count": null,
   "metadata": {},
   "outputs": [],
   "source": [
    "pd.DataFrame(data=y_result,index=X_test.index,columns=['target']).to_csv('output.csv')"
   ]
  }
 ],
 "metadata": {
  "kernelspec": {
   "display_name": "Python 3",
   "language": "python",
   "name": "python3"
  },
  "language_info": {
   "codemirror_mode": {
    "name": "ipython",
    "version": 3
   },
   "file_extension": ".py",
   "mimetype": "text/x-python",
   "name": "python",
   "nbconvert_exporter": "python",
   "pygments_lexer": "ipython3",
   "version": "3.8.5"
  }
 },
 "nbformat": 4,
 "nbformat_minor": 4
}
