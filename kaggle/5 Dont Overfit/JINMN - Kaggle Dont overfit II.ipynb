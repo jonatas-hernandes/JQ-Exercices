{
 "cells": [
  {
   "cell_type": "markdown",
   "metadata": {},
   "source": [
    "from Kaggle:\n",
    "https://www.kaggle.com/c/dont-overfit-ii/overview"
   ]
  },
  {
   "cell_type": "code",
   "execution_count": 42,
   "metadata": {},
   "outputs": [],
   "source": [
    "import matplotlib.pyplot as plt\n",
    "import pandas as pd\n",
    "import numpy as np\n",
    "from sklearn.model_selection import KFold, train_test_split, StratifiedKFold, cross_val_score\n",
    "from sklearn.preprocessing import StandardScaler, QuantileTransformer\n",
    "from sklearn.feature_selection import VarianceThreshold\n",
    "from sklearn.compose import ColumnTransformer\n",
    "from sklearn.pipeline import Pipeline\n",
    "from sklearn.dummy import DummyClassifier\n",
    "from sklearn.model_selection import StratifiedKFold, cross_val_score\n",
    "from sklearn.svm import SVC\n",
    "from sklearn.ensemble import RandomForestClassifier, GradientBoostingClassifier\n",
    "from sklearn.naive_bayes import MultinomialNB, GaussianNB\n",
    "from sklearn.linear_model import LogisticRegression\n",
    "from sklearn.metrics import accuracy_score\n",
    "from sklearn.metrics import classification_report, plot_confusion_matrix\n",
    "from sklearn.neural_network import MLPClassifier\n",
    "from sklearn.linear_model import LogisticRegressionCV\n",
    "\n",
    "np.random.seed(42)"
   ]
  },
  {
   "cell_type": "markdown",
   "metadata": {},
   "source": [
    "## O que sabemos sobre o dataset?"
   ]
  },
  {
   "cell_type": "code",
   "execution_count": 44,
   "metadata": {},
   "outputs": [
    {
     "name": "stdout",
     "output_type": "stream",
     "text": [
      "Temos um dataset com 300 features\n"
     ]
    }
   ],
   "source": [
    "overfit_train_data = pd.read_csv('./data/train.csv',index_col='id')\n",
    "overfit_test_data  = pd.read_csv(\"./data/test.csv\",index_col='id')\n",
    "\n",
    "print(f\"Temos um dataset com {overfit_train_data.shape[1]-1} features\")"
   ]
  },
  {
   "cell_type": "code",
   "execution_count": 38,
   "metadata": {},
   "outputs": [
    {
     "data": {
      "text/plain": [
       "0"
      ]
     },
     "execution_count": 38,
     "metadata": {},
     "output_type": "execute_result"
    }
   ],
   "source": []
  },
  {
   "cell_type": "code",
   "execution_count": 39,
   "metadata": {},
   "outputs": [
    {
     "data": {
      "text/html": [
       "<div>\n",
       "<style scoped>\n",
       "    .dataframe tbody tr th:only-of-type {\n",
       "        vertical-align: middle;\n",
       "    }\n",
       "\n",
       "    .dataframe tbody tr th {\n",
       "        vertical-align: top;\n",
       "    }\n",
       "\n",
       "    .dataframe thead th {\n",
       "        text-align: right;\n",
       "    }\n",
       "</style>\n",
       "<table border=\"1\" class=\"dataframe\">\n",
       "  <thead>\n",
       "    <tr style=\"text-align: right;\">\n",
       "      <th></th>\n",
       "      <th>number</th>\n",
       "      <th>missing values</th>\n",
       "    </tr>\n",
       "  </thead>\n",
       "  <tbody>\n",
       "    <tr>\n",
       "      <th>target</th>\n",
       "      <td>2</td>\n",
       "      <td>0</td>\n",
       "    </tr>\n",
       "    <tr>\n",
       "      <th>0</th>\n",
       "      <td>242</td>\n",
       "      <td>0</td>\n",
       "    </tr>\n",
       "    <tr>\n",
       "      <th>1</th>\n",
       "      <td>241</td>\n",
       "      <td>0</td>\n",
       "    </tr>\n",
       "    <tr>\n",
       "      <th>2</th>\n",
       "      <td>240</td>\n",
       "      <td>0</td>\n",
       "    </tr>\n",
       "    <tr>\n",
       "      <th>3</th>\n",
       "      <td>242</td>\n",
       "      <td>0</td>\n",
       "    </tr>\n",
       "    <tr>\n",
       "      <th>...</th>\n",
       "      <td>...</td>\n",
       "      <td>...</td>\n",
       "    </tr>\n",
       "    <tr>\n",
       "      <th>295</th>\n",
       "      <td>243</td>\n",
       "      <td>0</td>\n",
       "    </tr>\n",
       "    <tr>\n",
       "      <th>296</th>\n",
       "      <td>240</td>\n",
       "      <td>0</td>\n",
       "    </tr>\n",
       "    <tr>\n",
       "      <th>297</th>\n",
       "      <td>241</td>\n",
       "      <td>0</td>\n",
       "    </tr>\n",
       "    <tr>\n",
       "      <th>298</th>\n",
       "      <td>242</td>\n",
       "      <td>0</td>\n",
       "    </tr>\n",
       "    <tr>\n",
       "      <th>299</th>\n",
       "      <td>234</td>\n",
       "      <td>0</td>\n",
       "    </tr>\n",
       "  </tbody>\n",
       "</table>\n",
       "<p>301 rows × 2 columns</p>\n",
       "</div>"
      ],
      "text/plain": [
       "        number  missing values\n",
       "target       2               0\n",
       "0          242               0\n",
       "1          241               0\n",
       "2          240               0\n",
       "3          242               0\n",
       "...        ...             ...\n",
       "295        243               0\n",
       "296        240               0\n",
       "297        241               0\n",
       "298        242               0\n",
       "299        234               0\n",
       "\n",
       "[301 rows x 2 columns]"
      ]
     },
     "execution_count": 39,
     "metadata": {},
     "output_type": "execute_result"
    }
   ],
   "source": [
    "dic = {}\n",
    "for col in overfit_train_data:\n",
    "    dic[col] = []\n",
    "    dic[col].append(len(overfit_train_data[col].unique()))\n",
    "    dic[col].append(overfit_train_data[col].isnull().sum())\n",
    "pd.DataFrame.from_dict(data=dic,orient='index',columns=['number','missing values'])"
   ]
  },
  {
   "cell_type": "markdown",
   "metadata": {},
   "source": [
    "# Resolução com Todas as Features"
   ]
  },
  {
   "cell_type": "code",
   "execution_count": 10,
   "metadata": {},
   "outputs": [
    {
     "name": "stdout",
     "output_type": "stream",
     "text": [
      "            Mean        Std   Acc\n",
      "SVC         71.5  12.257651  80.0\n",
      "Log_Reg     65.5  12.134661  80.0\n",
      "Grad_Boost  68.5  15.337862  70.0\n"
     ]
    },
    {
     "data": {
      "image/png": "[encoded data removed]",
      "text/plain": [
       "<Figure size 720x720 with 1 Axes>"
      ]
     },
     "metadata": {
      "needs_background": "light"
     },
     "output_type": "display_data"
    }
   ],
   "source": [
    "TEST_SIZE = 0.2\n",
    "STRATEGY_NUM = 'mean'\n",
    "SCORING = 'accuracy' #'roc_auc' #\n",
    "N_SPLITS = 10\n",
    "\n",
    "\n",
    "X = overfit_train_data.drop(columns='target')\n",
    "y = overfit_train_data.loc[:,'target']\n",
    "\n",
    "# Antes de mais nada\n",
    "X_train, X_test, y_train, y_test = train_test_split(X, y, test_size=TEST_SIZE)\n",
    "\n",
    "# Applying Standard Scaler\n",
    "NUM_FEAT = X.columns.values\n",
    "scaler = StandardScaler()\n",
    "num_transf = Pipeline([('Scaler',scaler)])\n",
    "\n",
    "preprocessor = ColumnTransformer(transformers=[\n",
    "    ('Numeric',num_transf,NUM_FEAT)\n",
    "])\n",
    "\n",
    "svc = SVC(random_state=RANDOM_SEED)\n",
    "log_reg = LogisticRegression(random_state=RANDOM_SEED) #C=6, #penalty='l2'\n",
    "                             #class_weight='balanced', #0.1\n",
    "                             #max_iter=10000,\n",
    "                             #solver='lbfgs',\n",
    "                             #n_jobs=-1,\n",
    "grad_boost = GradientBoostingClassifier(random_state=RANDOM_SEED)\n",
    "kfold = KFold(n_splits=N_SPLITS, shuffle=True, random_state=RANDOM_SEED)\n",
    "\n",
    "# list models\n",
    "list_models = [('SVC', svc), ('Log_Reg', log_reg), ('Grad_Boost', grad_boost)]\n",
    "\n",
    "df_summary = pd.DataFrame(columns=['Mean','Std','Acc'])\n",
    "df_scores = pd.DataFrame()\n",
    "\n",
    "X_final = overfit_train_data\n",
    "\n",
    "# cross-val, treino e avalicao tudo num for\n",
    "for name, model in list_models:\n",
    "    pipe = Pipeline([('Preprocessor', preprocessor), (name, model)])\n",
    "    scores = cross_val_score(pipe, X_train, y_train, scoring=SCORING, cv=kfold)\n",
    "    df_scores.loc[:, name] = scores\n",
    "    pipe.fit(X_train, y_train)\n",
    "    y_pred = pipe.predict(X_test)\n",
    "    df_summary.loc[name] = [scores.mean()*100, \n",
    "                            scores.std()*100,\n",
    "                           accuracy_score(y_test, y_pred)*100]\n",
    "    \n",
    "    # Wrinting the output for Kaggle\n",
    "    y_pred_final = pipe.predict(X_final)\n",
    "    output = pd.DataFrame({'id': X_final.index, 'target': y_pred_final})\n",
    "    output.to_csv(f'./outputs/{name} DontOverfit 2020-11-22.csv',index=False)\n",
    "\n",
    "print(df_summary)\n",
    "df_scores.boxplot(figsize=(10, 10))\n",
    "plt.show()"
   ]
  },
  {
   "cell_type": "markdown",
   "metadata": {},
   "source": [
    "# Com apenas as features selecionadas"
   ]
  },
  {
   "cell_type": "code",
   "execution_count": 27,
   "metadata": {},
   "outputs": [],
   "source": [
    "s = overfit_train_data.corr()['target'].sort_values(ascending=False)\n",
    "selected_columns = s.loc[s>0.1].index.values[1:]"
   ]
  },
  {
   "cell_type": "code",
   "execution_count": 40,
   "metadata": {},
   "outputs": [
    {
     "name": "stdout",
     "output_type": "stream",
     "text": [
      "            Mean        Std   Acc\n",
      "SVC         75.5   6.873864  82.0\n",
      "Log_Reg     76.0   9.433981  80.0\n",
      "Grad_Boost  68.5  12.459936  80.0\n"
     ]
    },
    {
     "data": {
      "image/png": "[encoded data removed]",
      "text/plain": [
       "<Figure size 720x720 with 1 Axes>"
      ]
     },
     "metadata": {
      "needs_background": "light"
     },
     "output_type": "display_data"
    }
   ],
   "source": [
    "TEST_SIZE = 0.2\n",
    "STRATEGY_NUM = 'mean'\n",
    "SCORING = 'accuracy' #'roc_auc' #\n",
    "N_SPLITS = 10\n",
    "\n",
    "\n",
    "X = overfit_train_data[selected_columns]\n",
    "y = overfit_train_data.loc[:,'target']\n",
    "\n",
    "# Antes de mais nada\n",
    "X_train, X_test, y_train, y_test = train_test_split(X, y, test_size=TEST_SIZE)\n",
    "\n",
    "# Applying Standard Scaler\n",
    "NUM_FEAT = selected_columns\n",
    "scaler = StandardScaler()\n",
    "num_transf = Pipeline([('Scaler',scaler)])\n",
    "\n",
    "preprocessor = ColumnTransformer(transformers=[\n",
    "    ('Numeric',num_transf,NUM_FEAT)\n",
    "])\n",
    "\n",
    "svc = SVC()\n",
    "log_reg = LogisticRegression() #C=6, #penalty='l2'\n",
    "                             #class_weight='balanced', #0.1\n",
    "                             #max_iter=10000,\n",
    "                             #solver='lbfgs',\n",
    "                             #n_jobs=-1,\n",
    "grad_boost = GradientBoostingClassifier()\n",
    "kfold = KFold(n_splits=N_SPLITS, shuffle=True)\n",
    "\n",
    "# list models\n",
    "list_models = [('SVC', svc), ('Log_Reg', log_reg), ('Grad_Boost', grad_boost)]\n",
    "\n",
    "df_summary = pd.DataFrame(columns=['Mean','Std','Acc'])\n",
    "df_scores = pd.DataFrame()\n",
    "\n",
    "X_final = overfit_test_data[selected_columns]\n",
    "\n",
    "# cross-val, treino e avalicao tudo num for\n",
    "for name, model in list_models:\n",
    "    pipe = Pipeline([('Preprocessor', preprocessor), (name, model)])\n",
    "    scores = cross_val_score(pipe, X_train, y_train, scoring=SCORING, cv=kfold)\n",
    "    df_scores.loc[:, name] = scores\n",
    "    pipe.fit(X_train, y_train)\n",
    "    y_pred = pipe.predict(X_test)\n",
    "    df_summary.loc[name] = [scores.mean()*100, \n",
    "                            scores.std()*100,\n",
    "                           accuracy_score(y_test, y_pred)*100]\n",
    "    \n",
    "    # Wrinting the output for Kaggle\n",
    "    y_pred_final = pipe.predict(X_final)\n",
    "    output = pd.DataFrame({'id': X_final.index, 'target': y_pred_final})\n",
    "    output.to_csv(f'./outputs/{name} DontOverfit Few Columns 2020-11-22.csv',index=False)\n",
    "\n",
    "print(df_summary)\n",
    "df_scores.boxplot(figsize=(10, 10))\n",
    "plt.show()"
   ]
  },
  {
   "cell_type": "markdown",
   "metadata": {},
   "source": [
    "# Excluindo e Normalizando"
   ]
  },
  {
   "cell_type": "code",
   "execution_count": 45,
   "metadata": {},
   "outputs": [
    {
     "name": "stdout",
     "output_type": "stream",
     "text": [
      "            Mean        Std   Acc\n",
      "SVC         71.0   8.888194  82.0\n",
      "Log_Reg     70.5   7.228416  72.0\n",
      "Grad_Boost  70.0  10.488088  80.0\n"
     ]
    },
    {
     "data": {
      "image/png": "[encoded data removed]",
      "text/plain": [
       "<Figure size 720x720 with 1 Axes>"
      ]
     },
     "metadata": {
      "needs_background": "light"
     },
     "output_type": "display_data"
    }
   ],
   "source": [
    "TEST_SIZE = 0.2\n",
    "STRATEGY_NUM = 'mean'\n",
    "SCORING = 'accuracy' #'roc_auc' #\n",
    "N_SPLITS = 10\n",
    "\n",
    "\n",
    "X = overfit_train_data.drop(columns='target')\n",
    "y = overfit_train_data.loc[:,'target']\n",
    "\n",
    "# Antes de mais nada\n",
    "X_train, X_test, y_train, y_test = train_test_split(X, y, test_size=TEST_SIZE)\n",
    "\n",
    "# Applying Standard Scaler\n",
    "NUM_FEAT = X.columns.values\n",
    "selector = VarianceThreshold(threshold=0.0)\n",
    "scaler = StandardScaler()\n",
    "num_transf = Pipeline([('Select',selector),('Scaler',scaler)])\n",
    "\n",
    "preprocessor = ColumnTransformer(transformers=[\n",
    "    ('Numeric',num_transf,NUM_FEAT)\n",
    "])\n",
    "\n",
    "svc = SVC()\n",
    "log_reg = LogisticRegression() #C=6, #penalty='l2'\n",
    "                             #class_weight='balanced', #0.1\n",
    "                             #max_iter=10000,\n",
    "                             #solver='lbfgs',\n",
    "                             #n_jobs=-1,\n",
    "grad_boost = GradientBoostingClassifier()\n",
    "kfold = KFold(n_splits=N_SPLITS, shuffle=True)\n",
    "\n",
    "# list models\n",
    "list_models = [('SVC', svc), ('Log_Reg', log_reg), ('Grad_Boost', grad_boost)]\n",
    "\n",
    "df_summary = pd.DataFrame(columns=['Mean','Std','Acc'])\n",
    "df_scores = pd.DataFrame()\n",
    "\n",
    "X_final = overfit_test_data\n",
    "\n",
    "# cross-val, treino e avalicao tudo num for\n",
    "for name, model in list_models:\n",
    "    pipe = Pipeline([('Preprocessor', preprocessor), (name, model)])\n",
    "    scores = cross_val_score(pipe, X_train, y_train, scoring=SCORING, cv=kfold)\n",
    "    df_scores.loc[:, name] = scores\n",
    "    pipe.fit(X_train, y_train)\n",
    "    y_pred = pipe.predict(X_test)\n",
    "    df_summary.loc[name] = [scores.mean()*100, \n",
    "                            scores.std()*100,\n",
    "                           accuracy_score(y_test, y_pred)*100]\n",
    "    \n",
    "    # Wrinting the output for Kaggle\n",
    "    y_pred_final = pipe.predict(X_final)\n",
    "    output = pd.DataFrame({'id': X_final.index, 'target': y_pred_final})\n",
    "    output.to_csv(f'./outputs/{name} Selector DontOverfit 2020-11-22.csv',index=False)\n",
    "\n",
    "print(df_summary)\n",
    "df_scores.boxplot(figsize=(10, 10))\n",
    "plt.show()"
   ]
  },
  {
   "cell_type": "markdown",
   "metadata": {},
   "source": [
    "# Otimizando Parâmetros 2020-10-26"
   ]
  },
  {
   "cell_type": "code",
   "execution_count": 10,
   "metadata": {},
   "outputs": [
    {
     "name": "stderr",
     "output_type": "stream",
     "text": [
      "\u001b[32m[I 2020-10-26 18:01:16,078]\u001b[0m A new study created in memory with name: no-name-69a6da8e-7d57-46e1-b6cc-20fe8ea959b0\u001b[0m\n"
     ]
    }
   ],
   "source": [
    "# parameter optimization\n",
    "import optuna\n",
    "\n",
    "def objective(trial):\n",
    "    C=trial.suggest_loguniform('C', 0.00001, 100)\n",
    "    model=LogisticRegression(C=C, class_weight='balanced',max_iter=10000, solver='lbfgs', n_jobs=-1)\n",
    "    pipe = Pipeline([('Preprocessor', preprocessor), ('Log_Reg', model)])\n",
    "    score=-cross_val_score(pipe, X_train, y_train, cv=kfold, scoring='roc_auc').mean()\n",
    "    return score\n",
    "study=optuna.create_study()"
   ]
  },
  {
   "cell_type": "code",
   "execution_count": 11,
   "metadata": {},
   "outputs": [
    {
     "name": "stderr",
     "output_type": "stream",
     "text": [
      "\u001b[32m[I 2020-10-26 18:01:22,016]\u001b[0m Trial 0 finished with value: -0.6740000000000002 and parameters: {'C': 30.341410124782367}. Best is trial 0 with value: -0.6740000000000002.\u001b[0m\n",
      "\u001b[32m[I 2020-10-26 18:01:22,222]\u001b[0m Trial 1 finished with value: -0.6762380952380952 and parameters: {'C': 0.00012432338180473634}. Best is trial 1 with value: -0.6762380952380952.\u001b[0m\n",
      "\u001b[32m[I 2020-10-26 18:01:22,425]\u001b[0m Trial 2 finished with value: -0.686 and parameters: {'C': 0.006123353457973226}. Best is trial 2 with value: -0.686.\u001b[0m\n",
      "\u001b[32m[I 2020-10-26 18:01:22,634]\u001b[0m Trial 3 finished with value: -0.635904761904762 and parameters: {'C': 0.015925433508401705}. Best is trial 2 with value: -0.686.\u001b[0m\n",
      "\u001b[32m[I 2020-10-26 18:01:22,874]\u001b[0m Trial 4 finished with value: -0.6616190476190477 and parameters: {'C': 2.099392943149756}. Best is trial 2 with value: -0.686.\u001b[0m\n",
      "\u001b[32m[I 2020-10-26 18:01:23,119]\u001b[0m Trial 5 finished with value: -0.7130000000000001 and parameters: {'C': 63.52205314590649}. Best is trial 5 with value: -0.7130000000000001.\u001b[0m\n",
      "\u001b[32m[I 2020-10-26 18:01:23,353]\u001b[0m Trial 6 finished with value: -0.6653333333333333 and parameters: {'C': 67.47492759791778}. Best is trial 5 with value: -0.7130000000000001.\u001b[0m\n",
      "\u001b[32m[I 2020-10-26 18:01:23,580]\u001b[0m Trial 7 finished with value: -0.7098571428571429 and parameters: {'C': 0.14875361736321027}. Best is trial 5 with value: -0.7130000000000001.\u001b[0m\n",
      "\u001b[32m[I 2020-10-26 18:01:23,788]\u001b[0m Trial 8 finished with value: -0.7295238095238096 and parameters: {'C': 0.01590530461969713}. Best is trial 8 with value: -0.7295238095238096.\u001b[0m\n",
      "\u001b[32m[I 2020-10-26 18:01:24,003]\u001b[0m Trial 9 finished with value: -0.6809047619047619 and parameters: {'C': 0.0007886616562562622}. Best is trial 8 with value: -0.7295238095238096.\u001b[0m\n",
      "\u001b[32m[I 2020-10-26 18:01:24,203]\u001b[0m Trial 10 finished with value: -0.6666666666666666 and parameters: {'C': 2.0932735370162837e-05}. Best is trial 8 with value: -0.7295238095238096.\u001b[0m\n",
      "\u001b[32m[I 2020-10-26 18:01:24,436]\u001b[0m Trial 11 finished with value: -0.6985714285714286 and parameters: {'C': 0.5262128725730615}. Best is trial 8 with value: -0.7295238095238096.\u001b[0m\n",
      "\u001b[32m[I 2020-10-26 18:01:24,723]\u001b[0m Trial 12 finished with value: -0.6998571428571428 and parameters: {'C': 5.504541176264916}. Best is trial 8 with value: -0.7295238095238096.\u001b[0m\n",
      "\u001b[32m[I 2020-10-26 18:01:24,960]\u001b[0m Trial 13 finished with value: -0.6785714285714286 and parameters: {'C': 0.0021440382113826466}. Best is trial 8 with value: -0.7295238095238096.\u001b[0m\n",
      "\u001b[32m[I 2020-10-26 18:01:25,206]\u001b[0m Trial 14 finished with value: -0.7252380952380953 and parameters: {'C': 0.0633269018765537}. Best is trial 8 with value: -0.7295238095238096.\u001b[0m\n",
      "\u001b[32m[I 2020-10-26 18:01:25,437]\u001b[0m Trial 15 finished with value: -0.6145238095238095 and parameters: {'C': 0.07124585918976459}. Best is trial 8 with value: -0.7295238095238096.\u001b[0m\n",
      "\u001b[32m[I 2020-10-26 18:01:25,651]\u001b[0m Trial 16 finished with value: -0.633904761904762 and parameters: {'C': 0.0004439024224951804}. Best is trial 8 with value: -0.7295238095238096.\u001b[0m\n",
      "\u001b[32m[I 2020-10-26 18:01:25,903]\u001b[0m Trial 17 finished with value: -0.6951904761904762 and parameters: {'C': 0.025241584725594547}. Best is trial 8 with value: -0.7295238095238096.\u001b[0m\n",
      "\u001b[32m[I 2020-10-26 18:01:26,137]\u001b[0m Trial 18 finished with value: -0.6776666666666666 and parameters: {'C': 0.3116397780376194}. Best is trial 8 with value: -0.7295238095238096.\u001b[0m\n",
      "\u001b[32m[I 2020-10-26 18:01:26,346]\u001b[0m Trial 19 finished with value: -0.668 and parameters: {'C': 0.005202088843498295}. Best is trial 8 with value: -0.7295238095238096.\u001b[0m\n",
      "\u001b[32m[I 2020-10-26 18:01:26,589]\u001b[0m Trial 20 finished with value: -0.6380476190476191 and parameters: {'C': 1.0973940866907403}. Best is trial 8 with value: -0.7295238095238096.\u001b[0m\n",
      "\u001b[32m[I 2020-10-26 18:01:26,788]\u001b[0m Trial 21 finished with value: -0.6409523809523809 and parameters: {'C': 2.209188527393127e-05}. Best is trial 8 with value: -0.7295238095238096.\u001b[0m\n",
      "\u001b[32m[I 2020-10-26 18:01:27,025]\u001b[0m Trial 22 finished with value: -0.6864761904761905 and parameters: {'C': 4.12599198275204}. Best is trial 8 with value: -0.7295238095238096.\u001b[0m\n",
      "\u001b[32m[I 2020-10-26 18:01:27,270]\u001b[0m Trial 23 finished with value: -0.7185238095238095 and parameters: {'C': 22.919206073620263}. Best is trial 8 with value: -0.7295238095238096.\u001b[0m\n",
      "\u001b[32m[I 2020-10-26 18:01:27,519]\u001b[0m Trial 24 finished with value: -0.6603809523809524 and parameters: {'C': 16.964709336357725}. Best is trial 8 with value: -0.7295238095238096.\u001b[0m\n",
      "\u001b[32m[I 2020-10-26 18:01:27,743]\u001b[0m Trial 25 finished with value: -0.6750476190476191 and parameters: {'C': 0.07186857773962302}. Best is trial 8 with value: -0.7295238095238096.\u001b[0m\n",
      "\u001b[32m[I 2020-10-26 18:01:27,952]\u001b[0m Trial 26 finished with value: -0.7087619047619048 and parameters: {'C': 0.00014189810106148145}. Best is trial 8 with value: -0.7295238095238096.\u001b[0m\n",
      "\u001b[32m[I 2020-10-26 18:01:28,159]\u001b[0m Trial 27 finished with value: -0.6946666666666668 and parameters: {'C': 0.009009861784422035}. Best is trial 8 with value: -0.7295238095238096.\u001b[0m\n",
      "\u001b[32m[I 2020-10-26 18:01:28,367]\u001b[0m Trial 28 finished with value: -0.6816190476190477 and parameters: {'C': 0.001475797305082271}. Best is trial 8 with value: -0.7295238095238096.\u001b[0m\n",
      "\u001b[32m[I 2020-10-26 18:01:28,591]\u001b[0m Trial 29 finished with value: -0.6735238095238095 and parameters: {'C': 0.06464859622644842}. Best is trial 8 with value: -0.7295238095238096.\u001b[0m\n",
      "\u001b[32m[I 2020-10-26 18:01:28,837]\u001b[0m Trial 30 finished with value: -0.7103809523809523 and parameters: {'C': 0.4443170785651678}. Best is trial 8 with value: -0.7295238095238096.\u001b[0m\n",
      "\u001b[32m[I 2020-10-26 18:01:29,074]\u001b[0m Trial 31 finished with value: -0.618 and parameters: {'C': 72.38007905905894}. Best is trial 8 with value: -0.7295238095238096.\u001b[0m\n",
      "\u001b[32m[I 2020-10-26 18:01:29,317]\u001b[0m Trial 32 finished with value: -0.7044761904761905 and parameters: {'C': 13.153920663066963}. Best is trial 8 with value: -0.7295238095238096.\u001b[0m\n",
      "\u001b[32m[I 2020-10-26 18:01:29,562]\u001b[0m Trial 33 finished with value: -0.6827142857142857 and parameters: {'C': 24.660198940700678}. Best is trial 8 with value: -0.7295238095238096.\u001b[0m\n",
      "\u001b[32m[I 2020-10-26 18:01:29,804]\u001b[0m Trial 34 finished with value: -0.6659047619047619 and parameters: {'C': 39.56477022222579}. Best is trial 8 with value: -0.7295238095238096.\u001b[0m\n",
      "\u001b[32m[I 2020-10-26 18:01:30,047]\u001b[0m Trial 35 finished with value: -0.6967619047619047 and parameters: {'C': 99.37714213310252}. Best is trial 8 with value: -0.7295238095238096.\u001b[0m\n",
      "\u001b[32m[I 2020-10-26 18:01:30,289]\u001b[0m Trial 36 finished with value: -0.6785238095238094 and parameters: {'C': 5.554452559391764}. Best is trial 8 with value: -0.7295238095238096.\u001b[0m\n",
      "\u001b[32m[I 2020-10-26 18:01:30,528]\u001b[0m Trial 37 finished with value: -0.6881904761904762 and parameters: {'C': 1.3000959860554426}. Best is trial 8 with value: -0.7295238095238096.\u001b[0m\n",
      "\u001b[32m[I 2020-10-26 18:01:30,740]\u001b[0m Trial 38 finished with value: -0.6698571428571428 and parameters: {'C': 0.005973282822114292}. Best is trial 8 with value: -0.7295238095238096.\u001b[0m\n",
      "\u001b[32m[I 2020-10-26 18:01:30,955]\u001b[0m Trial 39 finished with value: -0.7359523809523811 and parameters: {'C': 0.028940669044126264}. Best is trial 39 with value: -0.7359523809523811.\u001b[0m\n",
      "\u001b[32m[I 2020-10-26 18:01:31,170]\u001b[0m Trial 40 finished with value: -0.6693333333333333 and parameters: {'C': 0.037184456788691075}. Best is trial 39 with value: -0.7359523809523811.\u001b[0m\n",
      "\u001b[32m[I 2020-10-26 18:01:31,390]\u001b[0m Trial 41 finished with value: -0.659142857142857 and parameters: {'C': 0.012454947672888761}. Best is trial 39 with value: -0.7359523809523811.\u001b[0m\n",
      "\u001b[32m[I 2020-10-26 18:01:31,621]\u001b[0m Trial 42 finished with value: -0.7322857142857143 and parameters: {'C': 0.20717442166530803}. Best is trial 39 with value: -0.7359523809523811.\u001b[0m\n",
      "\u001b[32m[I 2020-10-26 18:01:31,846]\u001b[0m Trial 43 finished with value: -0.6790476190476189 and parameters: {'C': 0.13334118242982876}. Best is trial 39 with value: -0.7359523809523811.\u001b[0m\n",
      "\u001b[32m[I 2020-10-26 18:01:32,072]\u001b[0m Trial 44 finished with value: -0.6702857142857143 and parameters: {'C': 0.16903383156532076}. Best is trial 39 with value: -0.7359523809523811.\u001b[0m\n",
      "\u001b[32m[I 2020-10-26 18:01:32,285]\u001b[0m Trial 45 finished with value: -0.6867619047619048 and parameters: {'C': 0.02430284353876861}. Best is trial 39 with value: -0.7359523809523811.\u001b[0m\n"
     ]
    },
    {
     "name": "stderr",
     "output_type": "stream",
     "text": [
      "\u001b[32m[I 2020-10-26 18:01:32,490]\u001b[0m Trial 46 finished with value: -0.6943809523809523 and parameters: {'C': 0.0026873601249946953}. Best is trial 39 with value: -0.7359523809523811.\u001b[0m\n",
      "\u001b[32m[I 2020-10-26 18:01:32,711]\u001b[0m Trial 47 finished with value: -0.7042380952380952 and parameters: {'C': 0.04584509826596827}. Best is trial 39 with value: -0.7359523809523811.\u001b[0m\n",
      "\u001b[32m[I 2020-10-26 18:01:32,927]\u001b[0m Trial 48 finished with value: -0.6800952380952381 and parameters: {'C': 0.01602597958369642}. Best is trial 39 with value: -0.7359523809523811.\u001b[0m\n",
      "\u001b[32m[I 2020-10-26 18:01:33,134]\u001b[0m Trial 49 finished with value: -0.6873809523809523 and parameters: {'C': 0.0035667439154466415}. Best is trial 39 with value: -0.7359523809523811.\u001b[0m\n",
      "\u001b[32m[I 2020-10-26 18:01:33,352]\u001b[0m Trial 50 finished with value: -0.6693333333333333 and parameters: {'C': 0.26200326992333517}. Best is trial 39 with value: -0.7359523809523811.\u001b[0m\n",
      "\u001b[32m[I 2020-10-26 18:01:33,586]\u001b[0m Trial 51 finished with value: -0.6789999999999999 and parameters: {'C': 0.12082610357408448}. Best is trial 39 with value: -0.7359523809523811.\u001b[0m\n",
      "\u001b[32m[I 2020-10-26 18:01:33,823]\u001b[0m Trial 52 finished with value: -0.6708095238095237 and parameters: {'C': 0.7540684737616316}. Best is trial 39 with value: -0.7359523809523811.\u001b[0m\n",
      "\u001b[32m[I 2020-10-26 18:01:34,073]\u001b[0m Trial 53 finished with value: -0.6646190476190477 and parameters: {'C': 2.098664042844733}. Best is trial 39 with value: -0.7359523809523811.\u001b[0m\n",
      "\u001b[32m[I 2020-10-26 18:01:34,288]\u001b[0m Trial 54 finished with value: -0.6967619047619047 and parameters: {'C': 0.019828392088377667}. Best is trial 39 with value: -0.7359523809523811.\u001b[0m\n",
      "\u001b[32m[I 2020-10-26 18:01:34,531]\u001b[0m Trial 55 finished with value: -0.7008095238095238 and parameters: {'C': 9.00430562928975}. Best is trial 39 with value: -0.7359523809523811.\u001b[0m\n",
      "\u001b[32m[I 2020-10-26 18:01:34,771]\u001b[0m Trial 56 finished with value: -0.665904761904762 and parameters: {'C': 41.475158953225375}. Best is trial 39 with value: -0.7359523809523811.\u001b[0m\n",
      "\u001b[32m[I 2020-10-26 18:01:34,983]\u001b[0m Trial 57 finished with value: -0.6825238095238094 and parameters: {'C': 0.011722786928532156}. Best is trial 39 with value: -0.7359523809523811.\u001b[0m\n",
      "\u001b[32m[I 2020-10-26 18:01:35,194]\u001b[0m Trial 58 finished with value: -0.6211904761904762 and parameters: {'C': 0.0007703156131013039}. Best is trial 39 with value: -0.7359523809523811.\u001b[0m\n",
      "\u001b[32m[I 2020-10-26 18:01:35,416]\u001b[0m Trial 59 finished with value: -0.701047619047619 and parameters: {'C': 0.07822808952140672}. Best is trial 39 with value: -0.7359523809523811.\u001b[0m\n",
      "\u001b[32m[I 2020-10-26 18:01:35,648]\u001b[0m Trial 60 finished with value: -0.6506666666666667 and parameters: {'C': 0.2746164808140772}. Best is trial 39 with value: -0.7359523809523811.\u001b[0m\n",
      "\u001b[32m[I 2020-10-26 18:01:35,882]\u001b[0m Trial 61 finished with value: -0.6602380952380953 and parameters: {'C': 0.5789994617168293}. Best is trial 39 with value: -0.7359523809523811.\u001b[0m\n",
      "\u001b[32m[I 2020-10-26 18:01:36,096]\u001b[0m Trial 62 finished with value: -0.6743809523809524 and parameters: {'C': 0.0427877160437398}. Best is trial 39 with value: -0.7359523809523811.\u001b[0m\n",
      "\u001b[32m[I 2020-10-26 18:01:36,325]\u001b[0m Trial 63 finished with value: -0.6661904761904762 and parameters: {'C': 0.34714672836240607}. Best is trial 39 with value: -0.7359523809523811.\u001b[0m\n",
      "\u001b[32m[I 2020-10-26 18:01:36,566]\u001b[0m Trial 64 finished with value: -0.7062380952380952 and parameters: {'C': 2.904616312494816}. Best is trial 39 with value: -0.7359523809523811.\u001b[0m\n",
      "\u001b[32m[I 2020-10-26 18:01:36,782]\u001b[0m Trial 65 finished with value: -0.6840952380952381 and parameters: {'C': 0.007401176605515425}. Best is trial 39 with value: -0.7359523809523811.\u001b[0m\n",
      "\u001b[32m[I 2020-10-26 18:01:37,007]\u001b[0m Trial 66 finished with value: -0.7083809523809524 and parameters: {'C': 0.17717792972081894}. Best is trial 39 with value: -0.7359523809523811.\u001b[0m\n",
      "\u001b[32m[I 2020-10-26 18:01:37,224]\u001b[0m Trial 67 finished with value: -0.7048571428571428 and parameters: {'C': 0.0772222330097837}. Best is trial 39 with value: -0.7359523809523811.\u001b[0m\n",
      "\u001b[32m[I 2020-10-26 18:01:37,434]\u001b[0m Trial 68 finished with value: -0.7220000000000001 and parameters: {'C': 0.03198410925843897}. Best is trial 39 with value: -0.7359523809523811.\u001b[0m\n",
      "\u001b[32m[I 2020-10-26 18:01:37,647]\u001b[0m Trial 69 finished with value: -0.7233333333333334 and parameters: {'C': 0.02666762750720169}. Best is trial 39 with value: -0.7359523809523811.\u001b[0m\n",
      "\u001b[32m[I 2020-10-26 18:01:37,859]\u001b[0m Trial 70 finished with value: -0.683 and parameters: {'C': 0.026592028642681863}. Best is trial 39 with value: -0.7359523809523811.\u001b[0m\n",
      "\u001b[32m[I 2020-10-26 18:01:38,067]\u001b[0m Trial 71 finished with value: -0.6841904761904762 and parameters: {'C': 0.004579412513025009}. Best is trial 39 with value: -0.7359523809523811.\u001b[0m\n",
      "\u001b[32m[I 2020-10-26 18:01:38,272]\u001b[0m Trial 72 finished with value: -0.6752857142857142 and parameters: {'C': 0.009940210312616328}. Best is trial 39 with value: -0.7359523809523811.\u001b[0m\n",
      "\u001b[32m[I 2020-10-26 18:01:38,484]\u001b[0m Trial 73 finished with value: -0.6937619047619047 and parameters: {'C': 0.03967677328935}. Best is trial 39 with value: -0.7359523809523811.\u001b[0m\n",
      "\u001b[32m[I 2020-10-26 18:01:38,694]\u001b[0m Trial 74 finished with value: -0.6944761904761905 and parameters: {'C': 0.01680068026830212}. Best is trial 39 with value: -0.7359523809523811.\u001b[0m\n",
      "\u001b[32m[I 2020-10-26 18:01:38,900]\u001b[0m Trial 75 finished with value: -0.6420952380952382 and parameters: {'C': 0.0017281940863166027}. Best is trial 39 with value: -0.7359523809523811.\u001b[0m\n",
      "\u001b[32m[I 2020-10-26 18:01:39,126]\u001b[0m Trial 76 finished with value: -0.7116666666666667 and parameters: {'C': 0.05551128591251486}. Best is trial 39 with value: -0.7359523809523811.\u001b[0m\n",
      "\u001b[32m[I 2020-10-26 18:01:39,351]\u001b[0m Trial 77 finished with value: -0.6714761904761904 and parameters: {'C': 0.10131930071058971}. Best is trial 39 with value: -0.7359523809523811.\u001b[0m\n",
      "\u001b[32m[I 2020-10-26 18:01:39,602]\u001b[0m Trial 78 finished with value: -0.6598571428571428 and parameters: {'C': 95.72964059275202}. Best is trial 39 with value: -0.7359523809523811.\u001b[0m\n",
      "\u001b[32m[I 2020-10-26 18:01:39,814]\u001b[0m Trial 79 finished with value: -0.6852380952380953 and parameters: {'C': 0.02981545785962196}. Best is trial 39 with value: -0.7359523809523811.\u001b[0m\n",
      "\u001b[32m[I 2020-10-26 18:01:40,052]\u001b[0m Trial 80 finished with value: -0.6862380952380952 and parameters: {'C': 25.04475873749934}. Best is trial 39 with value: -0.7359523809523811.\u001b[0m\n",
      "\u001b[32m[I 2020-10-26 18:01:40,268]\u001b[0m Trial 81 finished with value: -0.6363333333333332 and parameters: {'C': 0.0596524500028819}. Best is trial 39 with value: -0.7359523809523811.\u001b[0m\n",
      "\u001b[32m[I 2020-10-26 18:01:40,484]\u001b[0m Trial 82 finished with value: -0.6561904761904762 and parameters: {'C': 0.05392595062756003}. Best is trial 39 with value: -0.7359523809523811.\u001b[0m\n",
      "\u001b[32m[I 2020-10-26 18:01:40,718]\u001b[0m Trial 83 finished with value: -0.678952380952381 and parameters: {'C': 0.1998180014321365}. Best is trial 39 with value: -0.7359523809523811.\u001b[0m\n",
      "\u001b[32m[I 2020-10-26 18:01:40,931]\u001b[0m Trial 84 finished with value: -0.679 and parameters: {'C': 0.021385987057909353}. Best is trial 39 with value: -0.7359523809523811.\u001b[0m\n",
      "\u001b[32m[I 2020-10-26 18:01:41,146]\u001b[0m Trial 85 finished with value: -0.6655238095238094 and parameters: {'C': 0.012367661067984191}. Best is trial 39 with value: -0.7359523809523811.\u001b[0m\n",
      "\u001b[32m[I 2020-10-26 18:01:41,369]\u001b[0m Trial 86 finished with value: -0.7008095238095238 and parameters: {'C': 0.10005757533806157}. Best is trial 39 with value: -0.7359523809523811.\u001b[0m\n",
      "\u001b[32m[I 2020-10-26 18:01:41,576]\u001b[0m Trial 87 finished with value: -0.6973809523809524 and parameters: {'C': 0.00765974250602887}. Best is trial 39 with value: -0.7359523809523811.\u001b[0m\n",
      "\u001b[32m[I 2020-10-26 18:01:41,811]\u001b[0m Trial 88 finished with value: -0.6602857142857144 and parameters: {'C': 50.998911131465114}. Best is trial 39 with value: -0.7359523809523811.\u001b[0m\n",
      "\u001b[32m[I 2020-10-26 18:01:42,021]\u001b[0m Trial 89 finished with value: -0.6791904761904762 and parameters: {'C': 0.03154342615685626}. Best is trial 39 with value: -0.7359523809523811.\u001b[0m\n",
      "\u001b[32m[I 2020-10-26 18:01:42,226]\u001b[0m Trial 90 finished with value: -0.6782380952380952 and parameters: {'C': 0.00021003899018641725}. Best is trial 39 with value: -0.7359523809523811.\u001b[0m\n"
     ]
    },
    {
     "name": "stderr",
     "output_type": "stream",
     "text": [
      "\u001b[32m[I 2020-10-26 18:01:42,459]\u001b[0m Trial 91 finished with value: -0.6869047619047619 and parameters: {'C': 0.433866201624369}. Best is trial 39 with value: -0.7359523809523811.\u001b[0m\n",
      "\u001b[32m[I 2020-10-26 18:01:42,649]\u001b[0m Trial 92 finished with value: -0.6756190476190477 and parameters: {'C': 1.051646866706519e-05}. Best is trial 39 with value: -0.7359523809523811.\u001b[0m\n",
      "\u001b[32m[I 2020-10-26 18:01:42,892]\u001b[0m Trial 93 finished with value: -0.6738095238095239 and parameters: {'C': 0.8983646211604582}. Best is trial 39 with value: -0.7359523809523811.\u001b[0m\n",
      "\u001b[32m[I 2020-10-26 18:01:43,121]\u001b[0m Trial 94 finished with value: -0.6931428571428573 and parameters: {'C': 0.09675685999234761}. Best is trial 39 with value: -0.7359523809523811.\u001b[0m\n",
      "\u001b[32m[I 2020-10-26 18:01:43,341]\u001b[0m Trial 95 finished with value: -0.6532380952380953 and parameters: {'C': 0.05334165065150206}. Best is trial 39 with value: -0.7359523809523811.\u001b[0m\n",
      "\u001b[32m[I 2020-10-26 18:01:43,548]\u001b[0m Trial 96 finished with value: -0.6545238095238095 and parameters: {'C': 0.01674543478560086}. Best is trial 39 with value: -0.7359523809523811.\u001b[0m\n",
      "\u001b[32m[I 2020-10-26 18:01:43,772]\u001b[0m Trial 97 finished with value: -0.6869047619047619 and parameters: {'C': 0.16259357787925166}. Best is trial 39 with value: -0.7359523809523811.\u001b[0m\n",
      "\u001b[32m[I 2020-10-26 18:01:44,022]\u001b[0m Trial 98 finished with value: -0.6385714285714286 and parameters: {'C': 13.466556388618525}. Best is trial 39 with value: -0.7359523809523811.\u001b[0m\n",
      "\u001b[32m[I 2020-10-26 18:01:44,253]\u001b[0m Trial 99 finished with value: -0.6916190476190478 and parameters: {'C': 0.24546662963760937}. Best is trial 39 with value: -0.7359523809523811.\u001b[0m\n"
     ]
    }
   ],
   "source": [
    "study.optimize(objective, n_trials=100)"
   ]
  },
  {
   "cell_type": "code",
   "execution_count": 12,
   "metadata": {},
   "outputs": [
    {
     "name": "stdout",
     "output_type": "stream",
     "text": [
      "{'C': 0.028940669044126264}\n",
      "0.7359523809523811\n"
     ]
    }
   ],
   "source": [
    "print(study.best_params)\n",
    "print(-study.best_value)"
   ]
  },
  {
   "cell_type": "markdown",
   "metadata": {},
   "source": [
    "# Resolução Old"
   ]
  },
  {
   "cell_type": "code",
   "execution_count": null,
   "metadata": {},
   "outputs": [],
   "source": [
    "# constantes\n",
    "PATH_FILE_TRAIN = 'data/train.csv'\n",
    "PATH_FILE_TEST = 'data/test.csv'\n",
    "TEST_SIZE = 0.2\n",
    "RANDOM_SEED = 42\n",
    "STRATEGY_NUM = 'mean'\n",
    "STRATEGY_CAT = 'constant'\n",
    "SCORING = 'accuracy'\n",
    "N_SPLITS = 10\n",
    "\n",
    "df_train = pd.read_csv(PATH_FILE_TRAIN,index_col='id')\n",
    "\n",
    "# Readign DataFrame for final test\n",
    "df_test_final = pd.read_csv(PATH_FILE_TEST,index_col='id')"
   ]
  },
  {
   "cell_type": "code",
   "execution_count": null,
   "metadata": {},
   "outputs": [],
   "source": [
    "df_test_final"
   ]
  },
  {
   "cell_type": "code",
   "execution_count": null,
   "metadata": {},
   "outputs": [],
   "source": [
    "X  = df_train.drop(columns='target')\n",
    "y = df_train['target']\n",
    "\n",
    "X_train, X_test, y_train, y_test = train_test_split(X, y, test_size=TEST_SIZE, random_state=RANDOM_SEED)\n",
    "\n",
    "scaler = StandardScaler()\n",
    "log_reg = LogisticRegressionCV(random_state=42)\n",
    "\n",
    "strat_kfold = StratifiedKFold(n_splits=N_SPLITS, shuffle=True)\n",
    "\n",
    "# instanciando o pipeline com os passos que queremos\n",
    "pipeline = Pipeline([('StandardScaler', scaler), # segundo ele faz o StandardScaler \n",
    "                     ('LogisticRegression', log_reg)]) # terceiro ele treina o estimador\n",
    "\n",
    "df_scores = pd.DataFrame()\n",
    "scores = cross_val_score(pipeline, X_train, y_train, scoring=SCORING, cv=strat_kfold)\n",
    "df_scores.loc[:, \"Log Reg\"] = scores\n",
    "\n",
    "pipeline.fit(X,y)\n",
    "X_test_final = df_test_final.copy()\n",
    "X_test_final.loc[:,'target'] = pipeline.predict(X_test_final)\n",
    "X_test_final['target'].to_csv('Log Reg Out_pipe.csv')\n",
    "X_test_final = X_test_final.drop(columns='target')\n",
    "\n",
    "print('Scores do Cross-validation')\n",
    "print(scores.round(2))\n",
    "print(f'Media   : {scores.mean():.2f}%')\n",
    "print(f'Desv Pad: {scores.std():.2f}%')"
   ]
  },
  {
   "cell_type": "code",
   "execution_count": null,
   "metadata": {},
   "outputs": [],
   "source": [
    "scores"
   ]
  },
  {
   "cell_type": "code",
   "execution_count": null,
   "metadata": {},
   "outputs": [],
   "source": [
    "df_scores"
   ]
  },
  {
   "cell_type": "code",
   "execution_count": null,
   "metadata": {
    "scrolled": true
   },
   "outputs": [],
   "source": [
    "X_test"
   ]
  },
  {
   "cell_type": "code",
   "execution_count": null,
   "metadata": {},
   "outputs": [],
   "source": [
    "df_train.drop(columns='target')[df_train.columns.values[1:290]]"
   ]
  },
  {
   "cell_type": "code",
   "execution_count": null,
   "metadata": {},
   "outputs": [],
   "source": [
    "df = df_train.drop(columns='target')\n",
    "scaler = StandardScaler()\n",
    "scaler.fit_transform(df)"
   ]
  },
  {
   "cell_type": "code",
   "execution_count": null,
   "metadata": {},
   "outputs": [],
   "source": [
    "# features e target\n",
    "X = df_train.drop(columns='target')\n",
    "y = df_train.loc[:,'target']\n",
    "\n",
    "# treino e teste\n",
    "X_train, X_test, y_train, y_test = train_test_split(X, y, test_size=TEST_SIZE, random_state=RANDOM_SEED)\n",
    "\n",
    "gauss_nb = GaussianNB()\n",
    "mult_nb = MultinomialNB()\n",
    "svc = SVC()\n",
    "rand_forest = RandomForestClassifier()\n",
    "grad_boost = GradientBoostingClassifier()\n",
    "mlp = MLPClassifier(random_state=RANDOM_SEED, max_iter=300)\n",
    "log_reg = LogisticRegression(random_state=RANDOM_SEED)\n",
    "dummy_clf = DummyClassifier(strategy=\"most_frequent\")\n",
    "\n",
    "list_models = [('Dummy_Clf', dummy_clf), \n",
    "               #('Multinomial_NB', mult_nb), \n",
    "               ('SVC', svc), \n",
    "               ('Rand_Forest', rand_forest), \n",
    "               ('Grad_Boost', grad_boost),\n",
    "              ('MLP', mlp),\n",
    "              ('Log Reg',log_reg)]\n",
    "\n",
    "strat_kfold = StratifiedKFold(n_splits=N_SPLITS, shuffle=True)\n",
    "\n",
    "\n",
    "# Readign DataFrame for final test\n",
    "PATH_FILE_TEST = 'data/test.csv'\n",
    "df_test_final = pd.read_csv(PATH_FILE_TEST,index_col='id')\n",
    "X_test_final = df_test_final\n",
    "\n",
    "\n",
    "df_scores = pd.DataFrame()\n",
    "\n",
    "for name, model in list_models:\n",
    "    pipe = Pipeline([(name, model)])\n",
    "    scores = cross_val_score(pipe, X_train, y_train, scoring=SCORING, cv=strat_kfold)\n",
    "    df_scores.loc[:, name] = scores\n",
    "    \n",
    "    pipe.fit(X_train, y_train)\n",
    "    y_pred = pipe.predict(X_test)\n",
    "    \n",
    "    print(f'Resultado cross-val modelo {name}')\n",
    "    print(f'Mean: {scores.mean()*100:.2f}%')\n",
    "    print(f'Std: {scores.std()*100:.2f}%')\n",
    "    print('----------')\n",
    "    print(classification_report(y_test, y_pred))\n",
    "    plot_confusion_matrix(pipe, X_test, y_test)\n",
    "    plt.show()\n",
    "    print('----------------------------------------------------')\n",
    "    print('----------------------------------------------------')\n",
    "    \n",
    "    y_result_final = pipe.predict(X_test_final)\n",
    "    X_test_final.loc[:,'target'] = y_result_final\n",
    "    X_test_final['target'].to_csv(f'{name}_try.csv')\n",
    "    X_test_final = X_test_final.drop(columns='target')\n",
    "\n",
    "df_scores.plot.box()\n",
    "plt.show()"
   ]
  },
  {
   "cell_type": "code",
   "execution_count": null,
   "metadata": {},
   "outputs": [],
   "source": [
    "from sklearn.decomposition import PCA\n",
    "pca = PCA(n_components=10)\n",
    "pca.fit(X_train)\n",
    "\n",
    "print(pca.explained_variance_ratio_)\n",
    "\n",
    "print(pca.singular_values_)"
   ]
  },
  {
   "cell_type": "code",
   "execution_count": null,
   "metadata": {},
   "outputs": [],
   "source": [
    "X_train.shape\n"
   ]
  },
  {
   "cell_type": "code",
   "execution_count": null,
   "metadata": {},
   "outputs": [],
   "source": [
    "rand_forest.fit(X_train, y_train)\n",
    "y_pred = rand_forest.predict(X_test)\n",
    "print('----------')\n",
    "print(f'Acc test: {accuracy_score(y_test, y_pred)*100:.2f}%')\n",
    "print('---------------------------------------------------')"
   ]
  },
  {
   "cell_type": "code",
   "execution_count": null,
   "metadata": {},
   "outputs": [],
   "source": [
    "df_test.head()"
   ]
  },
  {
   "cell_type": "code",
   "execution_count": null,
   "metadata": {},
   "outputs": [],
   "source": []
  }
 ],
 "metadata": {
  "kernelspec": {
   "display_name": "Python 3",
   "language": "python",
   "name": "python3"
  },
  "language_info": {
   "codemirror_mode": {
    "name": "ipython",
    "version": 3
   },
   "file_extension": ".py",
   "mimetype": "text/x-python",
   "name": "python",
   "nbconvert_exporter": "python",
   "pygments_lexer": "ipython3",
   "version": "3.8.5"
  }
 },
 "nbformat": 4,
 "nbformat_minor": 4
}
