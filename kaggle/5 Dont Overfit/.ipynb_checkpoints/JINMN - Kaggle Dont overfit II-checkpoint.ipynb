{
 "cells": [
  {
   "cell_type": "markdown",
   "metadata": {},
   "source": [
    "from Kaggle:\n",
    "https://www.kaggle.com/c/dont-overfit-ii/overview"
   ]
  },
  {
   "cell_type": "code",
   "execution_count": 42,
   "metadata": {},
   "outputs": [],
   "source": [
    "import matplotlib.pyplot as plt\n",
    "import pandas as pd\n",
    "import numpy as np\n",
    "from sklearn.model_selection import KFold, train_test_split, StratifiedKFold, cross_val_score\n",
    "from sklearn.preprocessing import StandardScaler, QuantileTransformer\n",
    "from sklearn.feature_selection import VarianceThreshold\n",
    "from sklearn.compose import ColumnTransformer\n",
    "from sklearn.pipeline import Pipeline\n",
    "from sklearn.dummy import DummyClassifier\n",
    "from sklearn.model_selection import StratifiedKFold, cross_val_score\n",
    "from sklearn.svm import SVC\n",
    "from sklearn.ensemble import RandomForestClassifier, GradientBoostingClassifier\n",
    "from sklearn.naive_bayes import MultinomialNB, GaussianNB\n",
    "from sklearn.linear_model import LogisticRegression\n",
    "from sklearn.metrics import accuracy_score\n",
    "from sklearn.metrics import classification_report, plot_confusion_matrix\n",
    "from sklearn.neural_network import MLPClassifier\n",
    "from sklearn.linear_model import LogisticRegressionCV\n",
    "\n",
    "np.random.seed(42)"
   ]
  },
  {
   "cell_type": "markdown",
   "metadata": {},
   "source": [
    "## O que sabemos sobre o dataset?"
   ]
  },
  {
   "cell_type": "code",
   "execution_count": 44,
   "metadata": {},
   "outputs": [
    {
     "name": "stdout",
     "output_type": "stream",
     "text": [
      "Temos um dataset com 300 features\n"
     ]
    }
   ],
   "source": [
    "overfit_train_data = pd.read_csv('./data/train.csv',index_col='id')\n",
    "overfit_test_data  = pd.read_csv(\"./data/test.csv\",index_col='id')\n",
    "\n",
    "print(f\"Temos um dataset com {overfit_train_data.shape[1]-1} features\")"
   ]
  },
  {
   "cell_type": "code",
   "execution_count": 38,
   "metadata": {},
   "outputs": [
    {
     "data": {
      "text/plain": [
       "0"
      ]
     },
     "execution_count": 38,
     "metadata": {},
     "output_type": "execute_result"
    }
   ],
   "source": []
  },
  {
   "cell_type": "code",
   "execution_count": 39,
   "metadata": {},
   "outputs": [
    {
     "data": {
      "text/html": [
       "<div>\n",
       "<style scoped>\n",
       "    .dataframe tbody tr th:only-of-type {\n",
       "        vertical-align: middle;\n",
       "    }\n",
       "\n",
       "    .dataframe tbody tr th {\n",
       "        vertical-align: top;\n",
       "    }\n",
       "\n",
       "    .dataframe thead th {\n",
       "        text-align: right;\n",
       "    }\n",
       "</style>\n",
       "<table border=\"1\" class=\"dataframe\">\n",
       "  <thead>\n",
       "    <tr style=\"text-align: right;\">\n",
       "      <th></th>\n",
       "      <th>number</th>\n",
       "      <th>missing values</th>\n",
       "    </tr>\n",
       "  </thead>\n",
       "  <tbody>\n",
       "    <tr>\n",
       "      <th>target</th>\n",
       "      <td>2</td>\n",
       "      <td>0</td>\n",
       "    </tr>\n",
       "    <tr>\n",
       "      <th>0</th>\n",
       "      <td>242</td>\n",
       "      <td>0</td>\n",
       "    </tr>\n",
       "    <tr>\n",
       "      <th>1</th>\n",
       "      <td>241</td>\n",
       "      <td>0</td>\n",
       "    </tr>\n",
       "    <tr>\n",
       "      <th>2</th>\n",
       "      <td>240</td>\n",
       "      <td>0</td>\n",
       "    </tr>\n",
       "    <tr>\n",
       "      <th>3</th>\n",
       "      <td>242</td>\n",
       "      <td>0</td>\n",
       "    </tr>\n",
       "    <tr>\n",
       "      <th>...</th>\n",
       "      <td>...</td>\n",
       "      <td>...</td>\n",
       "    </tr>\n",
       "    <tr>\n",
       "      <th>295</th>\n",
       "      <td>243</td>\n",
       "      <td>0</td>\n",
       "    </tr>\n",
       "    <tr>\n",
       "      <th>296</th>\n",
       "      <td>240</td>\n",
       "      <td>0</td>\n",
       "    </tr>\n",
       "    <tr>\n",
       "      <th>297</th>\n",
       "      <td>241</td>\n",
       "      <td>0</td>\n",
       "    </tr>\n",
       "    <tr>\n",
       "      <th>298</th>\n",
       "      <td>242</td>\n",
       "      <td>0</td>\n",
       "    </tr>\n",
       "    <tr>\n",
       "      <th>299</th>\n",
       "      <td>234</td>\n",
       "      <td>0</td>\n",
       "    </tr>\n",
       "  </tbody>\n",
       "</table>\n",
       "<p>301 rows × 2 columns</p>\n",
       "</div>"
      ],
      "text/plain": [
       "        number  missing values\n",
       "target       2               0\n",
       "0          242               0\n",
       "1          241               0\n",
       "2          240               0\n",
       "3          242               0\n",
       "...        ...             ...\n",
       "295        243               0\n",
       "296        240               0\n",
       "297        241               0\n",
       "298        242               0\n",
       "299        234               0\n",
       "\n",
       "[301 rows x 2 columns]"
      ]
     },
     "execution_count": 39,
     "metadata": {},
     "output_type": "execute_result"
    }
   ],
   "source": [
    "dic = {}\n",
    "for col in overfit_train_data:\n",
    "    dic[col] = []\n",
    "    dic[col].append(len(overfit_train_data[col].unique()))\n",
    "    dic[col].append(overfit_train_data[col].isnull().sum())\n",
    "pd.DataFrame.from_dict(data=dic,orient='index',columns=['number','missing values'])"
   ]
  },
  {
   "cell_type": "markdown",
   "metadata": {},
   "source": [
    "# Resolução com Todas as Features"
   ]
  },
  {
   "cell_type": "code",
   "execution_count": 10,
   "metadata": {},
   "outputs": [
    {
     "name": "stdout",
     "output_type": "stream",
     "text": [
      "            Mean        Std   Acc\n",
      "SVC         71.5  12.257651  80.0\n",
      "Log_Reg     65.5  12.134661  80.0\n",
      "Grad_Boost  68.5  15.337862  70.0\n"
     ]
    },
    {
     "data": {
      "image/png": "[encoded data removed]",
      "text/plain": [
       "<Figure size 720x720 with 1 Axes>"
      ]
     },
     "metadata": {
      "needs_background": "light"
     },
     "output_type": "display_data"
    }
   ],
   "source": [
    "TEST_SIZE = 0.2\n",
    "STRATEGY_NUM = 'mean'\n",
    "SCORING = 'accuracy' #'roc_auc' #\n",
    "N_SPLITS = 10\n",
    "\n",
    "\n",
    "X = overfit_train_data.drop(columns='target')\n",
    "y = overfit_train_data.loc[:,'target']\n",
    "\n",
    "# Antes de mais nada\n",
    "X_train, X_test, y_train, y_test = train_test_split(X, y, test_size=TEST_SIZE)\n",
    "\n",
    "# Applying Standard Scaler\n",
    "NUM_FEAT = X.columns.values\n",
    "scaler = StandardScaler()\n",
    "num_transf = Pipeline([('Scaler',scaler)])\n",
    "\n",
    "preprocessor = ColumnTransformer(transformers=[\n",
    "    ('Numeric',num_transf,NUM_FEAT)\n",
    "])\n",
    "\n",
    "svc = SVC(random_state=RANDOM_SEED)\n",
    "log_reg = LogisticRegression(random_state=RANDOM_SEED) #C=6, #penalty='l2'\n",
    "                             #class_weight='balanced', #0.1\n",
    "                             #max_iter=10000,\n",
    "                             #solver='lbfgs',\n",
    "                             #n_jobs=-1,\n",
    "grad_boost = GradientBoostingClassifier(random_state=RANDOM_SEED)\n",
    "kfold = KFold(n_splits=N_SPLITS, shuffle=True, random_state=RANDOM_SEED)\n",
    "\n",
    "# list models\n",
    "list_models = [('SVC', svc), ('Log_Reg', log_reg), ('Grad_Boost', grad_boost)]\n",
    "\n",
    "df_summary = pd.DataFrame(columns=['Mean','Std','Acc'])\n",
    "df_scores = pd.DataFrame()\n",
    "\n",
    "X_final = overfit_train_data\n",
    "\n",
    "# cross-val, treino e avalicao tudo num for\n",
    "for name, model in list_models:\n",
    "    pipe = Pipeline([('Preprocessor', preprocessor), (name, model)])\n",
    "    scores = cross_val_score(pipe, X_train, y_train, scoring=SCORING, cv=kfold)\n",
    "    df_scores.loc[:, name] = scores\n",
    "    pipe.fit(X_train, y_train)\n",
    "    y_pred = pipe.predict(X_test)\n",
    "    df_summary.loc[name] = [scores.mean()*100, \n",
    "                            scores.std()*100,\n",
    "                           accuracy_score(y_test, y_pred)*100]\n",
    "    \n",
    "    # Wrinting the output for Kaggle\n",
    "    y_pred_final = pipe.predict(X_final)\n",
    "    output = pd.DataFrame({'id': X_final.index, 'target': y_pred_final})\n",
    "    output.to_csv(f'./outputs/{name} DontOverfit 2020-11-22.csv',index=False)\n",
    "\n",
    "print(df_summary)\n",
    "df_scores.boxplot(figsize=(10, 10))\n",
    "plt.show()"
   ]
  },
  {
   "cell_type": "markdown",
   "metadata": {},
   "source": [
    "# Com apenas as features selecionadas"
   ]
  },
  {
   "cell_type": "code",
   "execution_count": 27,
   "metadata": {},
   "outputs": [],
   "source": [
    "s = overfit_train_data.corr()['target'].sort_values(ascending=False)\n",
    "selected_columns = s.loc[s>0.1].index.values[1:]"
   ]
  },
  {
   "cell_type": "code",
   "execution_count": 40,
   "metadata": {},
   "outputs": [
    {
     "name": "stdout",
     "output_type": "stream",
     "text": [
      "            Mean        Std   Acc\n",
      "SVC         75.5   6.873864  82.0\n",
      "Log_Reg     76.0   9.433981  80.0\n",
      "Grad_Boost  68.5  12.459936  80.0\n"
     ]
    },
    {
     "data": {
      "image/png": "[encoded data removed]",
      "text/plain": [
       "<Figure size 720x720 with 1 Axes>"
      ]
     },
     "metadata": {
      "needs_background": "light"
     },
     "output_type": "display_data"
    }
   ],
   "source": [
    "TEST_SIZE = 0.2\n",
    "STRATEGY_NUM = 'mean'\n",
    "SCORING = 'accuracy' #'roc_auc' #\n",
    "N_SPLITS = 10\n",
    "\n",
    "\n",
    "X = overfit_train_data[selected_columns]\n",
    "y = overfit_train_data.loc[:,'target']\n",
    "\n",
    "# Antes de mais nada\n",
    "X_train, X_test, y_train, y_test = train_test_split(X, y, test_size=TEST_SIZE)\n",
    "\n",
    "# Applying Standard Scaler\n",
    "NUM_FEAT = selected_columns\n",
    "scaler = StandardScaler()\n",
    "num_transf = Pipeline([('Scaler',scaler)])\n",
    "\n",
    "preprocessor = ColumnTransformer(transformers=[\n",
    "    ('Numeric',num_transf,NUM_FEAT)\n",
    "])\n",
    "\n",
    "svc = SVC()\n",
    "log_reg = LogisticRegression() #C=6, #penalty='l2'\n",
    "                             #class_weight='balanced', #0.1\n",
    "                             #max_iter=10000,\n",
    "                             #solver='lbfgs',\n",
    "                             #n_jobs=-1,\n",
    "grad_boost = GradientBoostingClassifier()\n",
    "kfold = KFold(n_splits=N_SPLITS, shuffle=True)\n",
    "\n",
    "# list models\n",
    "list_models = [('SVC', svc), ('Log_Reg', log_reg), ('Grad_Boost', grad_boost)]\n",
    "\n",
    "df_summary = pd.DataFrame(columns=['Mean','Std','Acc'])\n",
    "df_scores = pd.DataFrame()\n",
    "\n",
    "X_final = overfit_test_data[selected_columns]\n",
    "\n",
    "# cross-val, treino e avalicao tudo num for\n",
    "for name, model in list_models:\n",
    "    pipe = Pipeline([('Preprocessor', preprocessor), (name, model)])\n",
    "    scores = cross_val_score(pipe, X_train, y_train, scoring=SCORING, cv=kfold)\n",
    "    df_scores.loc[:, name] = scores\n",
    "    pipe.fit(X_train, y_train)\n",
    "    y_pred = pipe.predict(X_test)\n",
    "    df_summary.loc[name] = [scores.mean()*100, \n",
    "                            scores.std()*100,\n",
    "                           accuracy_score(y_test, y_pred)*100]\n",
    "    \n",
    "    # Wrinting the output for Kaggle\n",
    "    y_pred_final = pipe.predict(X_final)\n",
    "    output = pd.DataFrame({'id': X_final.index, 'target': y_pred_final})\n",
    "    output.to_csv(f'./outputs/{name} DontOverfit Few Columns 2020-11-22.csv',index=False)\n",
    "\n",
    "print(df_summary)\n",
    "df_scores.boxplot(figsize=(10, 10))\n",
    "plt.show()"
   ]
  },
  {
   "cell_type": "markdown",
   "metadata": {},
   "source": [
    "# Excluindo e Normalizando"
   ]
  },
  {
   "cell_type": "code",
   "execution_count": 45,
   "metadata": {},
   "outputs": [
    {
     "name": "stdout",
     "output_type": "stream",
     "text": [
      "            Mean        Std   Acc\n",
      "SVC         71.0   8.888194  82.0\n",
      "Log_Reg     70.5   7.228416  72.0\n",
      "Grad_Boost  70.0  10.488088  80.0\n"
     ]
    },
    {
     "data": {
      "image/png": "[encoded data removed]",
      "text/plain": [
       "<Figure size 720x720 with 1 Axes>"
      ]
     },
     "metadata": {
      "needs_background": "light"
     },
     "output_type": "display_data"
    }
   ],
   "source": [
    "TEST_SIZE = 0.2\n",
    "STRATEGY_NUM = 'mean'\n",
    "SCORING = 'accuracy' #'roc_auc' #\n",
    "N_SPLITS = 10\n",
    "\n",
    "\n",
    "X = overfit_train_data.drop(columns='target')\n",
    "y = overfit_train_data.loc[:,'target']\n",
    "\n",
    "# Antes de mais nada\n",
    "X_train, X_test, y_train, y_test = train_test_split(X, y, test_size=TEST_SIZE)\n",
    "\n",
    "# Applying Standard Scaler\n",
    "NUM_FEAT = X.columns.values\n",
    "selector = VarianceThreshold(threshold=0.0)\n",
    "scaler = StandardScaler()\n",
    "num_transf = Pipeline([('Select',selector),('Scaler',scaler)])\n",
    "\n",
    "preprocessor = ColumnTransformer(transformers=[\n",
    "    ('Numeric',num_transf,NUM_FEAT)\n",
    "])\n",
    "\n",
    "svc = SVC()\n",
    "log_reg = LogisticRegression() #C=6, #penalty='l2'\n",
    "                             #class_weight='balanced', #0.1\n",
    "                             #max_iter=10000,\n",
    "                             #solver='lbfgs',\n",
    "                             #n_jobs=-1,\n",
    "grad_boost = GradientBoostingClassifier()\n",
    "kfold = KFold(n_splits=N_SPLITS, shuffle=True)\n",
    "\n",
    "# list models\n",
    "list_models = [('SVC', svc), ('Log_Reg', log_reg), ('Grad_Boost', grad_boost)]\n",
    "\n",
    "df_summary = pd.DataFrame(columns=['Mean','Std','Acc'])\n",
    "df_scores = pd.DataFrame()\n",
    "\n",
    "X_final = overfit_test_data\n",
    "\n",
    "# cross-val, treino e avalicao tudo num for\n",
    "for name, model in list_models:\n",
    "    pipe = Pipeline([('Preprocessor', preprocessor), (name, model)])\n",
    "    scores = cross_val_score(pipe, X_train, y_train, scoring=SCORING, cv=kfold)\n",
    "    df_scores.loc[:, name] = scores\n",
    "    pipe.fit(X_train, y_train)\n",
    "    y_pred = pipe.predict(X_test)\n",
    "    df_summary.loc[name] = [scores.mean()*100, \n",
    "                            scores.std()*100,\n",
    "                           accuracy_score(y_test, y_pred)*100]\n",
    "    \n",
    "    # Wrinting the output for Kaggle\n",
    "    y_pred_final = pipe.predict(X_final)\n",
    "    output = pd.DataFrame({'id': X_final.index, 'target': y_pred_final})\n",
    "    output.to_csv(f'./outputs/{name} Selector DontOverfit 2020-11-22.csv',index=False)\n",
    "\n",
    "print(df_summary)\n",
    "df_scores.boxplot(figsize=(10, 10))\n",
    "plt.show()"
   ]
  }
 ],
 "metadata": {
  "kernelspec": {
   "display_name": "Python 3",
   "language": "python",
   "name": "python3"
  },
  "language_info": {
   "codemirror_mode": {
    "name": "ipython",
    "version": 3
   },
   "file_extension": ".py",
   "mimetype": "text/x-python",
   "name": "python",
   "nbconvert_exporter": "python",
   "pygments_lexer": "ipython3",
   "version": "3.8.5"
  }
 },
 "nbformat": 4,
 "nbformat_minor": 4
}
